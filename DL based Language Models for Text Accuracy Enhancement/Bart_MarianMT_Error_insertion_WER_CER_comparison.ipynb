{
  "cells": [
    {
      "cell_type": "markdown",
      "metadata": {
        "id": "rnvoQPLRPzn-"
      },
      "source": [
        "## Installing Libraries"
      ]
    },
    {
      "cell_type": "code",
      "execution_count": null,
      "metadata": {
        "colab": {
          "base_uri": "https://localhost:8080/"
        },
        "id": "TQCxjJz5ADMq",
        "outputId": "39cdd4c1-7ed9-4550-cb4d-b554f182fda3"
      },
      "outputs": [
        {
          "output_type": "stream",
          "name": "stdout",
          "text": [
            "Drive already mounted at /content/drive; to attempt to forcibly remount, call drive.mount(\"/content/drive\", force_remount=True).\n"
          ]
        }
      ],
      "source": [
        "from google.colab import drive\n",
        "drive.mount('/content/drive')"
      ]
    },
    {
      "cell_type": "code",
      "execution_count": null,
      "metadata": {
        "colab": {
          "base_uri": "https://localhost:8080/"
        },
        "id": "nexGerB9um1s",
        "outputId": "364095a5-a21f-4411-f813-a74f7c79c980"
      },
      "outputs": [
        {
          "name": "stdout",
          "output_type": "stream",
          "text": [
            "Looking in indexes: https://pypi.org/simple, https://us-python.pkg.dev/colab-wheels/public/simple/\n",
            "Collecting pybind11\n",
            "  Downloading pybind11-2.10.4-py3-none-any.whl (222 kB)\n",
            "\u001b[2K     \u001b[90m━━━━━━━━━━━━━━━━━━━━━━━━━━━━━━━━━━━━━━━\u001b[0m \u001b[32m222.3/222.3 kB\u001b[0m \u001b[31m9.5 MB/s\u001b[0m eta \u001b[36m0:00:00\u001b[0m\n",
            "\u001b[?25hInstalling collected packages: pybind11\n",
            "Successfully installed pybind11-2.10.4\n",
            "Looking in indexes: https://pypi.org/simple, https://us-python.pkg.dev/colab-wheels/public/simple/\n",
            "Collecting fastwer\n",
            "  Downloading fastwer-0.1.3.tar.gz (4.6 kB)\n",
            "  Preparing metadata (setup.py) ... \u001b[?25l\u001b[?25hdone\n",
            "Requirement already satisfied: pybind11 in /usr/local/lib/python3.10/dist-packages (from fastwer) (2.10.4)\n",
            "Building wheels for collected packages: fastwer\n",
            "  Building wheel for fastwer (setup.py) ... \u001b[?25l\u001b[?25hdone\n",
            "  Created wheel for fastwer: filename=fastwer-0.1.3-cp310-cp310-linux_x86_64.whl size=884170 sha256=51ecf0ec9f236b272f8dfaa916373598db1b42c0fa5dab1bf63d140399bfe3df\n",
            "  Stored in directory: /root/.cache/pip/wheels/99/b5/22/f6edc9a914bf3b54ebc55e258e2f9aa2297908d85799de228f\n",
            "Successfully built fastwer\n",
            "Installing collected packages: fastwer\n",
            "Successfully installed fastwer-0.1.3\n",
            "Looking in indexes: https://pypi.org/simple, https://us-python.pkg.dev/colab-wheels/public/simple/\n",
            "Collecting pytesseract\n",
            "  Downloading pytesseract-0.3.10-py3-none-any.whl (14 kB)\n",
            "Requirement already satisfied: packaging>=21.3 in /usr/local/lib/python3.10/dist-packages (from pytesseract) (23.1)\n",
            "Requirement already satisfied: Pillow>=8.0.0 in /usr/local/lib/python3.10/dist-packages (from pytesseract) (8.4.0)\n",
            "Installing collected packages: pytesseract\n",
            "Successfully installed pytesseract-0.3.10\n",
            "Reading package lists... Done\n",
            "Building dependency tree       \n",
            "Reading state information... Done\n",
            "The following additional packages will be installed:\n",
            "  tesseract-ocr-eng tesseract-ocr-osd\n",
            "The following NEW packages will be installed:\n",
            "  tesseract-ocr tesseract-ocr-eng tesseract-ocr-osd\n",
            "0 upgraded, 3 newly installed, 0 to remove and 24 not upgraded.\n",
            "Need to get 4,850 kB of archives.\n",
            "After this operation, 16.3 MB of additional disk space will be used.\n",
            "Get:1 http://archive.ubuntu.com/ubuntu focal/universe amd64 tesseract-ocr-eng all 1:4.00~git30-7274cfa-1 [1,598 kB]\n",
            "Get:2 http://archive.ubuntu.com/ubuntu focal/universe amd64 tesseract-ocr-osd all 1:4.00~git30-7274cfa-1 [2,990 kB]\n",
            "Get:3 http://archive.ubuntu.com/ubuntu focal/universe amd64 tesseract-ocr amd64 4.1.1-2build2 [262 kB]\n",
            "Fetched 4,850 kB in 1s (5,644 kB/s)\n",
            "debconf: unable to initialize frontend: Dialog\n",
            "debconf: (No usable dialog-like program is installed, so the dialog based frontend cannot be used. at /usr/share/perl5/Debconf/FrontEnd/Dialog.pm line 76, <> line 3.)\n",
            "debconf: falling back to frontend: Readline\n",
            "debconf: unable to initialize frontend: Readline\n",
            "debconf: (This frontend requires a controlling tty.)\n",
            "debconf: falling back to frontend: Teletype\n",
            "dpkg-preconfigure: unable to re-open stdin: \n",
            "Selecting previously unselected package tesseract-ocr-eng.\n",
            "(Reading database ... 122518 files and directories currently installed.)\n",
            "Preparing to unpack .../tesseract-ocr-eng_1%3a4.00~git30-7274cfa-1_all.deb ...\n",
            "Unpacking tesseract-ocr-eng (1:4.00~git30-7274cfa-1) ...\n",
            "Selecting previously unselected package tesseract-ocr-osd.\n",
            "Preparing to unpack .../tesseract-ocr-osd_1%3a4.00~git30-7274cfa-1_all.deb ...\n",
            "Unpacking tesseract-ocr-osd (1:4.00~git30-7274cfa-1) ...\n",
            "Selecting previously unselected package tesseract-ocr.\n",
            "Preparing to unpack .../tesseract-ocr_4.1.1-2build2_amd64.deb ...\n",
            "Unpacking tesseract-ocr (4.1.1-2build2) ...\n",
            "Setting up tesseract-ocr-eng (1:4.00~git30-7274cfa-1) ...\n",
            "Setting up tesseract-ocr-osd (1:4.00~git30-7274cfa-1) ...\n",
            "Setting up tesseract-ocr (4.1.1-2build2) ...\n",
            "Processing triggers for man-db (2.9.1-1) ...\n"
          ]
        }
      ],
      "source": [
        "!pip install pybind11\n",
        "!pip install fastwer\n",
        "!pip install pytesseract\n",
        "!sudo apt install tesseract-ocr\n"
      ]
    },
    {
      "cell_type": "markdown",
      "metadata": {
        "id": "tJ0o0FBoPuG1"
      },
      "source": [
        "## Importing Libraries"
      ]
    },
    {
      "cell_type": "code",
      "execution_count": null,
      "metadata": {
        "id": "H2lJkxA2y8_c"
      },
      "outputs": [],
      "source": [
        "import cv2\n",
        "import pytesseract\n",
        "import fastwer\n",
        "import os\n",
        "import numpy as np\n",
        "import pandas as pd\n",
        "import matplotlib.pyplot as plt\n",
        "from IPython.display import Image, display\n",
        "import numpy as np\n",
        "import pandas as pd\n",
        "import matplotlib.pyplot as plt"
      ]
    },
    {
      "cell_type": "markdown",
      "metadata": {
        "id": "aB4a6-uAO4m6"
      },
      "source": [
        "## Error Rates"
      ]
    },
    {
      "cell_type": "markdown",
      "metadata": {
        "id": "1PKpao8O4Xph"
      },
      "source": [
        "\n",
        "\n",
        "> Character Error Rate ( CER )\n",
        "\n"
      ]
    },
    {
      "cell_type": "code",
      "execution_count": null,
      "metadata": {
        "id": "2_8NnWVb4bFt"
      },
      "outputs": [],
      "source": [
        "\n",
        "def characterER(input,target):\n",
        "\n",
        "  ceroutput = []\n",
        "\n",
        "  for i in range(len(input)):\n",
        "    if i != None:\n",
        "      cer =fastwer.score_sent(input[i], target[i], char_level=True)\n",
        "      ceroutput.append(cer)\n",
        "\n",
        "  avg1 = 0\n",
        "  avg1 = round(float(sum(ceroutput) / len(ceroutput)),3)\n",
        "  return avg1\n",
        ""
      ]
    },
    {
      "cell_type": "markdown",
      "metadata": {
        "id": "0429WSsyUBdi"
      },
      "source": [
        "\n",
        "\n",
        "> Word Error Rate\n",
        "\n"
      ]
    },
    {
      "cell_type": "code",
      "execution_count": null,
      "metadata": {
        "id": "vn3ns_w4UFCk"
      },
      "outputs": [],
      "source": [
        "def wordER(ocr,ground):\n",
        "\n",
        "  weroutput = []\n",
        "\n",
        "  for i in range(len(ocr)):\n",
        "    if i != None:\n",
        "      wer =fastwer.score_sent(ocr[i], ground[i], char_level=False)\n",
        "      weroutput.append(wer)\n",
        "  avg2 = 0\n",
        "  avg2 = round(float(sum(weroutput) / len(weroutput)),3)\n",
        "\n",
        "  return avg2\n"
      ]
    },
    {
      "cell_type": "markdown",
      "metadata": {
        "id": "374XS8rj4C1F"
      },
      "source": [
        "## Reading Data\n",
        "\n"
      ]
    },
    {
      "cell_type": "code",
      "execution_count": null,
      "metadata": {
        "colab": {
          "base_uri": "https://localhost:8080/",
          "height": 1000
        },
        "id": "lT1rGNWAgWFt",
        "outputId": "1e3eef4a-2d2e-464e-e7fc-77c0956af786"
      },
      "outputs": [
        {
          "output_type": "execute_result",
          "data": {
            "text/plain": [
              "       Unnamed: 0.2                                             TARGET  \\\n",
              "0                 0                                            Theatre   \n",
              "1                 1   Today, I'll go to the theatre with my boyfriend.   \n",
              "2                 2                  I'm really looking forward to it.   \n",
              "3                 3                                      I like Verdi.   \n",
              "4                 4                  So it's something special for me.   \n",
              "...             ...                                                ...   \n",
              "25733         25733  Thus, it could be more fun and I could better ...   \n",
              "25734         25734  Although I ca n't get a scholarship, because i...   \n",
              "25735         25735  By the time I graduate from the university, I'...   \n",
              "25736         25736  : ) There is no one who does n't have their ow...   \n",
              "25737         25737  I hope you, who are in the same situation, do ...   \n",
              "\n",
              "                                          ORIGINAL_INPUT  \\\n",
              "0                                                Theatre   \n",
              "1       Today, I'll go to the theatre with my boyfriend.   \n",
              "2                      I'm really looking forward to it.   \n",
              "3                                          I like Verdi.   \n",
              "4                      So it's something special for me.   \n",
              "...                                                  ...   \n",
              "25733  Therefore, It would be more fun and I could co...   \n",
              "25734  Although I ca n't get a scholarship because it...   \n",
              "25735  By the time I will graduate from the universit...   \n",
              "25736  : ) There is no one who do n't have their own ...   \n",
              "25737  I hope you who are in the same situation do wh...   \n",
              "\n",
              "                                     NATURAL_ERROR_INPUT  \\\n",
              "0                                                Theatre   \n",
              "1       Today, I'll go to the theatre with my boyfriend.   \n",
              "2                      I'm really looking forward to it.   \n",
              "3                                          I like Verdi.   \n",
              "4                      So it's something special for me.   \n",
              "...                                                  ...   \n",
              "25733  Therefore, It would be more fun and I could co...   \n",
              "25734  Although I ca n't get a scholarship because it...   \n",
              "25735  By the time I will graduate from the universit...   \n",
              "25736  : ) There is no one who do n't have their own ...   \n",
              "25737  I hope you who are in the same situation, do w...   \n",
              "\n",
              "                                           INPUT_0_ERROR  \\\n",
              "0                                                Theatre   \n",
              "1       Today, I'll go to the theatre with my boyfriend.   \n",
              "2                      I'm really looking forward to it.   \n",
              "3                                          I like Verdi.   \n",
              "4                      So it's something special for me.   \n",
              "...                                                  ...   \n",
              "25733  Thus, it could be more fun and I could better ...   \n",
              "25734  Although I ca n't get a scholarship, because i...   \n",
              "25735  By the time I graduate from the university, I'...   \n",
              "25736  : ) There is no one who does n't have their ow...   \n",
              "25737  I hope you, who are in the same situation, do ...   \n",
              "\n",
              "                                           INPUT_2_ERROR  \\\n",
              "0                                                T+eatre   \n",
              "1       TodaG, I'll go to the theatre with my boyfriend.   \n",
              "2                      I'm \"eally looking forward to it.   \n",
              "3                                          I like Ve8di.   \n",
              "4                      So it's something speciWl for me.   \n",
              "...                                                  ...   \n",
              "25733  Thuh, it could be mor( fun and I could better ...   \n",
              "25734  Although I ca n't get a scholarship, becaPse i...   \n",
              "25735  By the time I graduate from th] $niversity, I'...   \n",
              "25736  : ) There is no one who does n't have their ow...   \n",
              "25737  I hope you, who are in the same situationr Co ...   \n",
              "\n",
              "                                           INPUT_4_ERROR  \\\n",
              "0                                                T+eatre   \n",
              "1       Todap, I'll go to th\" theatre with my boyfriend.   \n",
              "2                      I'm really looki8g forward t@ it.   \n",
              "3                                          I like VArdi.   \n",
              "4                      So iX's something dpecial for me.   \n",
              "...                                                  ...   \n",
              "25733  Thus, it could be more fun and I could `etter ...   \n",
              "25734  Although I ca n't get a scholars8ip, because i...   \n",
              "25735  By the time I graduate from *he univers-ty, I'...   \n",
              "25736  : ) There is no one why does n't have their ow...   \n",
              "25737  I hope you, who are in the same situatiok, do ...   \n",
              "\n",
              "                                           INPUT_6_ERROR  \\\n",
              "0                                                T+eatre   \n",
              "1       Toda5, I\"ll go to th8 theatre with my boyfriend.   \n",
              "2                      I'm really looAing forwmrd to it.   \n",
              "3                                          I like Veddi.   \n",
              "4                      So it's someth3ng special for m:.   \n",
              "...                                                  ...   \n",
              "25733  Th1s, it could b3 mwre fun and I 9ould better ...   \n",
              "25734  Although I ca !'t get a sc)olArshQp- because i...   \n",
              "25735  By $he tim2 I gradsate from the un%versity, I'...   \n",
              "25736  : ) There is no one who doeJ n't hav: their ow...   \n",
              "25737  I hope you, mho are in the same situ/tibn, do ...   \n",
              "\n",
              "                                           INPUT_8_ERROR  \\\n",
              "0                                                T+eatre   \n",
              "1       Toda8, I5ll go to th@ theatre with my bWyfriend.   \n",
              "2                      I'm !eaXly looking forward to dt.   \n",
              "3                                          I like V:rdi.   \n",
              "4                      5o it's something special Io} me.   \n",
              "...                                                  ...   \n",
              "25733  Thus, it coM'd be more fun and I cuuld better ...   \n",
              "25734  AlthMugh I ca n'r get a sJholarship, b!cause i...   \n",
              "25735  By Yx} time I graduste from >he university, I'...   \n",
              "25736  : ) THerb is no oYe w5o does n't have their ow...   \n",
              "25737  I hope you, who are (n tAe same =ituation, do ...   \n",
              "\n",
              "                                          INPUT_10_ERROR  ...  \\\n",
              "0                                                T+eatre  ...   \n",
              "1       Toda8, I5ll go to th@ theatre with my bWyfriend.  ...   \n",
              "2                      I'm !eaXly looking forward to dt.  ...   \n",
              "3                                          I like Vard`.  ...   \n",
              "4                      So it's so.ethinD special fnr me.  ...   \n",
              "...                                                  ...  ...   \n",
              "25733  Thus, it could be moae fun and I cou7r better ...  ...   \n",
              "25734  Althougp I ca n't ggt a sc]olarp&ip, becausT i...  ...   \n",
              "25735  By the time I g)Eduate from the ^niversity, I'...  ...   \n",
              "25736  : , There is no one wio doHs n't hav' their ow...  ...   \n",
              "25737  I hope you, who arz iw the same situation, do ...  ...   \n",
              "\n",
              "                               PT_MARIANMT_4_PREDICTIONS  \\\n",
              "0                                                T+eatre   \n",
              "1       Todap, I'll go to th\" theatre with my boyfriend.   \n",
              "2                       I'm really looki8g forward t@it.   \n",
              "3                                  I lige så stor værdi.   \n",
              "4                     So iX's something dpecial for mig.   \n",
              "...                                                  ...   \n",
              "25733  Thus, it could be more fund and I could shalle...   \n",
              "25734  Although I can't get a skolars8ip, because it ...   \n",
              "25735  By the time I graduate from *he universs-ty, I...   \n",
              "25736  :) There is no one why doesn't have their own ...   \n",
              "25737  I hope you, who are in the same situatiok, do ...   \n",
              "\n",
              "                               PT_MARIANMT_6_PREDICTIONS  \\\n",
              "0                                                T+eatre   \n",
              "1       Toda5, I'll go to th8 theatre with my boyfriend.   \n",
              "2                      I'm really looAing forwmrd to it.   \n",
              "3                                          I like Veddi.   \n",
              "4                          So's someth3ng special for m:   \n",
              "...                                                  ...   \n",
              "25733  Th1s, it could b3 mwre fun and I 9ould bedre c...   \n",
              "25734  Although I ca!'t get a sc)olArshQp- because it...   \n",
              "25735  By $he time2 I gradate from the un%versiony, I...   \n",
              "25736  :) There is no one who doeJn't hav: their ow/ ...   \n",
              "25737  I hope you, mho are in the same situ/tibn, do ...   \n",
              "\n",
              "                               PT_MARIANMT_8_PREDICTIONS  \\\n",
              "0                                                T+eatre   \n",
              "1        Toda8, I5ll go to th@theatre with my bWyfriend.   \n",
              "2                       I'm!eaXly looking forward to dt.   \n",
              "3                                    I lignende V-værdi.   \n",
              "4                      5o it's something special Io} me.   \n",
              "...                                                  ...   \n",
              "25733  Thus, it com'd be more fund and I cuuld bedre ...   \n",
              "25734  AlthMugh I ca n'r get a sJholarship, b!cause i...   \n",
              "25735  By Yx} time I graduste from >he university, I'...   \n",
              "25736  :) THerb is no oYe w5o doesn't have their own ...   \n",
              "25737  I hope you, who are (n tAe same = situation, d...   \n",
              "\n",
              "                              PT_MARIANMT_10_PREDICTIONS  \\\n",
              "0                                                T+eatre   \n",
              "1        Toda8, I5ll go to th@theatre with my bWyfriend.   \n",
              "2                       I'm!eaXly looking forward to dt.   \n",
              "3                                        I lige så værd.   \n",
              "4                      So it's so.ethinD special fr mig.   \n",
              "...                                                  ...   \n",
              "25733  Thus, it could be moae fun and I cou7r bedre c...   \n",
              "25734  Althougp I can't ggt a sc]olarp&ip, becaust th...   \n",
              "25735  By the time I g)Eduate from the ^niversity, I'...   \n",
              "25736  :, There is no one wi doHsn't hav' their own ]...   \n",
              "25737  I hope you, who arz iw the same situation, do ...   \n",
              "\n",
              "                              PT_MARIANMT_11_PREDICTIONS  \\\n",
              "0                                                T+eatre   \n",
              "1       Toda@, IAll go to thm theatre with 8y bWyfriend.   \n",
              "2                 3'm really looain: forward to i shall.   \n",
              "3                                          I likD Ve}di.   \n",
              "4                      Co i('s some@hing spedial for me.   \n",
              "...                                                  ...   \n",
              "25733  ghus, it cmuld be moWe fu4 and I c4uld bedre c...   \n",
              "25734  Although I can't get a schoolrnhip, becsionuse...   \n",
              "25735  By thS time I graduate from the univeusity9 I'...   \n",
              "25736  :) The6e is nu en who does n+t havj their owQ ...   \n",
              "25737  I:ope you, who are in the tase otuayion, do w4...   \n",
              "\n",
              "                              PT_MARIANMT_20_PREDICTIONS  \\\n",
              "0                                        TieaGre TieaGre   \n",
              "1       TXday, 5 år go tl the theatre }ith 3y :ayfriend.   \n",
              "2                     c'm deal@y l(ooking fobward to Wt.   \n",
              "3                                           I lie V}rdid   \n",
              "4                      So it's sDmet]inC 6pLcial fac me.   \n",
              "...                                                  ...   \n",
              "25733  Thus, shallt co3ld be more eun and I coxld b?t...   \n",
              "25734  Altho9gQ U can't met a Rcho9arship, becausq it...   \n",
              "25735  My the tiPe I }&aiuatU b.os the uniYer\"ity, \"'...   \n",
              "25736  :) fére is (o one who doesn't E*ve ghwir oen a...   \n",
              "25737  I hope youz wqo are in thD same 1pt<Ltion, do ...   \n",
              "\n",
              "                              PT_MARIANMT_30_PREDICTIONS  \\\n",
              "0                                        TieaGrp TieaGrp   \n",
              "1        .day, @'ll go tb Whe ^heatre BitO dy cdyfrien(.   \n",
              "2                      D'm realSy lookD]C 6Lrward c1 it.   \n",
              "3                                          I L=ke Ver}ip   \n",
              "4                      So it's Kom.\"hi#g sYecia. e9r mF.   \n",
              "...                                                  ...   \n",
              "25733  N2us, it c5uld!e _ore ^Vn an/ I {ousk beNter c...   \n",
              "25734  9XthoNgh I cun't 8eA a @YholarOhi7, because @t...   \n",
              "25735  W} w5c Mim3 I grad+ate #rom the un'verTityz IF...   \n",
              "25736  :) -here t& 3o one uh6 woesn't Aive thepr 6wn ...   \n",
              "25737  Y hope you, So\" are E. Bie same sit#gYion, do ...   \n",
              "\n",
              "                              PT_MARIANMT_40_PREDICTIONS  \\\n",
              "0                                        TieaGrp TieaGrp   \n",
              "1       C4day, D'll go tc 1he *he?tre med\" )y DSy]Cie6L.   \n",
              "2                       I'm MeKlly.ok#ng Yorw.e9 Fo iZy.   \n",
              "3                                         Italien ]Vrli4   \n",
              "4                      N{ i;'. someth-Yng?veciav f#D MB.   \n",
              "...                                                  ...   \n",
              "25733  chzm6 i{ ^Aus? k= more fup av2 I c;uld Settea ...   \n",
              "25734  H%th<LM&I ya n}t get @ }chmlfh>qi^, be9DBse it...   \n",
              "25735  By the ti+e I \\radqate fróA the 7n2ve@sCtN[ B@...   \n",
              "25736  H) =heQe in no -np wh-does H'(have EhY3r Rtn a...   \n",
              "25737  I noppz ]ou, 8ho aqI #n tu {qme si5Lution, do ...   \n",
              "\n",
              "                              PT_MARIANMT_50_PREDICTIONS  \\\n",
              "0                                                Gpea'r5   \n",
              "1      c1day, *'ll go t? mhe x=e}tLe pitQ }See #2y#\\y...   \n",
              "2      I]m reVly lo4[$nn u%YwaVd!o ~t\\xE4t\\xE4t\\xE4t\\...   \n",
              "3                                           v lik V#Ddbz   \n",
              "4                        qo it's%*etA2nh s9U+)az f#r 0e$   \n",
              "...                                                  ...   \n",
              "25733  Thss, it\\9KE8 bC morq 'u_ and I cyjo &etK$* c7...   \n",
              "25734  BlPyg2 B #an't get a:chE+ars#i6, ) hcause it J...   \n",
              "25735  BR shallha G6m/I <radu0.e ^=om dhe u]5Wer+ity,...   \n",
              "25736  : ) %herg xStudie Po Cne @ao,Mes d'F I=2O }#ei...   \n",
              "25737  I uOTE x+ur 5go ar@ in Lhe s+Ae <>t?/ti\\n, Xo ...   \n",
              "\n",
              "                              PT_MARIANMT_60_PREDICTIONS  \n",
              "0                                                p\"5a8r@  \n",
              "1        2#day, \\yll gM tK.he \"#eY.ee 9iFZ 1\\ bwU) •eVl.  \n",
              "2                        .-m?evly vo#Dibz (or)aDZ $S i,Y  \n",
              "3                                          X lig$ qe%*A2  \n",
              "4                     -) it's xlme)Gie] jkc5bJl for FIw.  \n",
              "...                                                  ...  \n",
              "25733                I OouHd Eet^v woDa]!Gu+Etat\" : ^_q.  \n",
              "25734  S9<)ouf%! ca n$t (Pt L!)7~Tar0pi+~ Rec+us+it K...  \n",
              "25735  #0 hhe Itme I i=Hdu3+G fLgm sha u,!Eer<YtyC I4...  \n",
              "25736  ? ThI' z~ xX Yni (Oo Eovh n$t hj\\H th_y& >wn X...  \n",
              "25737  & \"oV0 NGU, :(o aDe ;p gh! \\ ~me sitK$t+inK ho...  \n",
              "\n",
              "[25738 rows x 72 columns]"
            ],
            "text/html": [
              "\n",
              "  <div id=\"df-97623363-f006-4f5e-b451-27e4efe404a9\">\n",
              "    <div class=\"colab-df-container\">\n",
              "      <div>\n",
              "<style scoped>\n",
              "    .dataframe tbody tr th:only-of-type {\n",
              "        vertical-align: middle;\n",
              "    }\n",
              "\n",
              "    .dataframe tbody tr th {\n",
              "        vertical-align: top;\n",
              "    }\n",
              "\n",
              "    .dataframe thead th {\n",
              "        text-align: right;\n",
              "    }\n",
              "</style>\n",
              "<table border=\"1\" class=\"dataframe\">\n",
              "  <thead>\n",
              "    <tr style=\"text-align: right;\">\n",
              "      <th></th>\n",
              "      <th>Unnamed: 0.2</th>\n",
              "      <th>TARGET</th>\n",
              "      <th>ORIGINAL_INPUT</th>\n",
              "      <th>NATURAL_ERROR_INPUT</th>\n",
              "      <th>INPUT_0_ERROR</th>\n",
              "      <th>INPUT_2_ERROR</th>\n",
              "      <th>INPUT_4_ERROR</th>\n",
              "      <th>INPUT_6_ERROR</th>\n",
              "      <th>INPUT_8_ERROR</th>\n",
              "      <th>INPUT_10_ERROR</th>\n",
              "      <th>...</th>\n",
              "      <th>PT_MARIANMT_4_PREDICTIONS</th>\n",
              "      <th>PT_MARIANMT_6_PREDICTIONS</th>\n",
              "      <th>PT_MARIANMT_8_PREDICTIONS</th>\n",
              "      <th>PT_MARIANMT_10_PREDICTIONS</th>\n",
              "      <th>PT_MARIANMT_11_PREDICTIONS</th>\n",
              "      <th>PT_MARIANMT_20_PREDICTIONS</th>\n",
              "      <th>PT_MARIANMT_30_PREDICTIONS</th>\n",
              "      <th>PT_MARIANMT_40_PREDICTIONS</th>\n",
              "      <th>PT_MARIANMT_50_PREDICTIONS</th>\n",
              "      <th>PT_MARIANMT_60_PREDICTIONS</th>\n",
              "    </tr>\n",
              "  </thead>\n",
              "  <tbody>\n",
              "    <tr>\n",
              "      <th>0</th>\n",
              "      <td>0</td>\n",
              "      <td>Theatre</td>\n",
              "      <td>Theatre</td>\n",
              "      <td>Theatre</td>\n",
              "      <td>Theatre</td>\n",
              "      <td>T+eatre</td>\n",
              "      <td>T+eatre</td>\n",
              "      <td>T+eatre</td>\n",
              "      <td>T+eatre</td>\n",
              "      <td>T+eatre</td>\n",
              "      <td>...</td>\n",
              "      <td>T+eatre</td>\n",
              "      <td>T+eatre</td>\n",
              "      <td>T+eatre</td>\n",
              "      <td>T+eatre</td>\n",
              "      <td>T+eatre</td>\n",
              "      <td>TieaGre TieaGre</td>\n",
              "      <td>TieaGrp TieaGrp</td>\n",
              "      <td>TieaGrp TieaGrp</td>\n",
              "      <td>Gpea'r5</td>\n",
              "      <td>p\"5a8r@</td>\n",
              "    </tr>\n",
              "    <tr>\n",
              "      <th>1</th>\n",
              "      <td>1</td>\n",
              "      <td>Today, I'll go to the theatre with my boyfriend.</td>\n",
              "      <td>Today, I'll go to the theatre with my boyfriend.</td>\n",
              "      <td>Today, I'll go to the theatre with my boyfriend.</td>\n",
              "      <td>Today, I'll go to the theatre with my boyfriend.</td>\n",
              "      <td>TodaG, I'll go to the theatre with my boyfriend.</td>\n",
              "      <td>Todap, I'll go to th\" theatre with my boyfriend.</td>\n",
              "      <td>Toda5, I\"ll go to th8 theatre with my boyfriend.</td>\n",
              "      <td>Toda8, I5ll go to th@ theatre with my bWyfriend.</td>\n",
              "      <td>Toda8, I5ll go to th@ theatre with my bWyfriend.</td>\n",
              "      <td>...</td>\n",
              "      <td>Todap, I'll go to th\" theatre with my boyfriend.</td>\n",
              "      <td>Toda5, I'll go to th8 theatre with my boyfriend.</td>\n",
              "      <td>Toda8, I5ll go to th@theatre with my bWyfriend.</td>\n",
              "      <td>Toda8, I5ll go to th@theatre with my bWyfriend.</td>\n",
              "      <td>Toda@, IAll go to thm theatre with 8y bWyfriend.</td>\n",
              "      <td>TXday, 5 år go tl the theatre }ith 3y :ayfriend.</td>\n",
              "      <td>.day, @'ll go tb Whe ^heatre BitO dy cdyfrien(.</td>\n",
              "      <td>C4day, D'll go tc 1he *he?tre med\" )y DSy]Cie6L.</td>\n",
              "      <td>c1day, *'ll go t? mhe x=e}tLe pitQ }See #2y#\\y...</td>\n",
              "      <td>2#day, \\yll gM tK.he \"#eY.ee 9iFZ 1\\ bwU) •eVl.</td>\n",
              "    </tr>\n",
              "    <tr>\n",
              "      <th>2</th>\n",
              "      <td>2</td>\n",
              "      <td>I'm really looking forward to it.</td>\n",
              "      <td>I'm really looking forward to it.</td>\n",
              "      <td>I'm really looking forward to it.</td>\n",
              "      <td>I'm really looking forward to it.</td>\n",
              "      <td>I'm \"eally looking forward to it.</td>\n",
              "      <td>I'm really looki8g forward t@ it.</td>\n",
              "      <td>I'm really looAing forwmrd to it.</td>\n",
              "      <td>I'm !eaXly looking forward to dt.</td>\n",
              "      <td>I'm !eaXly looking forward to dt.</td>\n",
              "      <td>...</td>\n",
              "      <td>I'm really looki8g forward t@it.</td>\n",
              "      <td>I'm really looAing forwmrd to it.</td>\n",
              "      <td>I'm!eaXly looking forward to dt.</td>\n",
              "      <td>I'm!eaXly looking forward to dt.</td>\n",
              "      <td>3'm really looain: forward to i shall.</td>\n",
              "      <td>c'm deal@y l(ooking fobward to Wt.</td>\n",
              "      <td>D'm realSy lookD]C 6Lrward c1 it.</td>\n",
              "      <td>I'm MeKlly.ok#ng Yorw.e9 Fo iZy.</td>\n",
              "      <td>I]m reVly lo4[$nn u%YwaVd!o ~t\\xE4t\\xE4t\\xE4t\\...</td>\n",
              "      <td>.-m?evly vo#Dibz (or)aDZ $S i,Y</td>\n",
              "    </tr>\n",
              "    <tr>\n",
              "      <th>3</th>\n",
              "      <td>3</td>\n",
              "      <td>I like Verdi.</td>\n",
              "      <td>I like Verdi.</td>\n",
              "      <td>I like Verdi.</td>\n",
              "      <td>I like Verdi.</td>\n",
              "      <td>I like Ve8di.</td>\n",
              "      <td>I like VArdi.</td>\n",
              "      <td>I like Veddi.</td>\n",
              "      <td>I like V:rdi.</td>\n",
              "      <td>I like Vard`.</td>\n",
              "      <td>...</td>\n",
              "      <td>I lige så stor værdi.</td>\n",
              "      <td>I like Veddi.</td>\n",
              "      <td>I lignende V-værdi.</td>\n",
              "      <td>I lige så værd.</td>\n",
              "      <td>I likD Ve}di.</td>\n",
              "      <td>I lie V}rdid</td>\n",
              "      <td>I L=ke Ver}ip</td>\n",
              "      <td>Italien ]Vrli4</td>\n",
              "      <td>v lik V#Ddbz</td>\n",
              "      <td>X lig$ qe%*A2</td>\n",
              "    </tr>\n",
              "    <tr>\n",
              "      <th>4</th>\n",
              "      <td>4</td>\n",
              "      <td>So it's something special for me.</td>\n",
              "      <td>So it's something special for me.</td>\n",
              "      <td>So it's something special for me.</td>\n",
              "      <td>So it's something special for me.</td>\n",
              "      <td>So it's something speciWl for me.</td>\n",
              "      <td>So iX's something dpecial for me.</td>\n",
              "      <td>So it's someth3ng special for m:.</td>\n",
              "      <td>5o it's something special Io} me.</td>\n",
              "      <td>So it's so.ethinD special fnr me.</td>\n",
              "      <td>...</td>\n",
              "      <td>So iX's something dpecial for mig.</td>\n",
              "      <td>So's someth3ng special for m:</td>\n",
              "      <td>5o it's something special Io} me.</td>\n",
              "      <td>So it's so.ethinD special fr mig.</td>\n",
              "      <td>Co i('s some@hing spedial for me.</td>\n",
              "      <td>So it's sDmet]inC 6pLcial fac me.</td>\n",
              "      <td>So it's Kom.\"hi#g sYecia. e9r mF.</td>\n",
              "      <td>N{ i;'. someth-Yng?veciav f#D MB.</td>\n",
              "      <td>qo it's%*etA2nh s9U+)az f#r 0e$</td>\n",
              "      <td>-) it's xlme)Gie] jkc5bJl for FIw.</td>\n",
              "    </tr>\n",
              "    <tr>\n",
              "      <th>...</th>\n",
              "      <td>...</td>\n",
              "      <td>...</td>\n",
              "      <td>...</td>\n",
              "      <td>...</td>\n",
              "      <td>...</td>\n",
              "      <td>...</td>\n",
              "      <td>...</td>\n",
              "      <td>...</td>\n",
              "      <td>...</td>\n",
              "      <td>...</td>\n",
              "      <td>...</td>\n",
              "      <td>...</td>\n",
              "      <td>...</td>\n",
              "      <td>...</td>\n",
              "      <td>...</td>\n",
              "      <td>...</td>\n",
              "      <td>...</td>\n",
              "      <td>...</td>\n",
              "      <td>...</td>\n",
              "      <td>...</td>\n",
              "      <td>...</td>\n",
              "    </tr>\n",
              "    <tr>\n",
              "      <th>25733</th>\n",
              "      <td>25733</td>\n",
              "      <td>Thus, it could be more fun and I could better ...</td>\n",
              "      <td>Therefore, It would be more fun and I could co...</td>\n",
              "      <td>Therefore, It would be more fun and I could co...</td>\n",
              "      <td>Thus, it could be more fun and I could better ...</td>\n",
              "      <td>Thuh, it could be mor( fun and I could better ...</td>\n",
              "      <td>Thus, it could be more fun and I could `etter ...</td>\n",
              "      <td>Th1s, it could b3 mwre fun and I 9ould better ...</td>\n",
              "      <td>Thus, it coM'd be more fun and I cuuld better ...</td>\n",
              "      <td>Thus, it could be moae fun and I cou7r better ...</td>\n",
              "      <td>...</td>\n",
              "      <td>Thus, it could be more fund and I could shalle...</td>\n",
              "      <td>Th1s, it could b3 mwre fun and I 9ould bedre c...</td>\n",
              "      <td>Thus, it com'd be more fund and I cuuld bedre ...</td>\n",
              "      <td>Thus, it could be moae fun and I cou7r bedre c...</td>\n",
              "      <td>ghus, it cmuld be moWe fu4 and I c4uld bedre c...</td>\n",
              "      <td>Thus, shallt co3ld be more eun and I coxld b?t...</td>\n",
              "      <td>N2us, it c5uld!e _ore ^Vn an/ I {ousk beNter c...</td>\n",
              "      <td>chzm6 i{ ^Aus? k= more fup av2 I c;uld Settea ...</td>\n",
              "      <td>Thss, it\\9KE8 bC morq 'u_ and I cyjo &amp;etK$* c7...</td>\n",
              "      <td>I OouHd Eet^v woDa]!Gu+Etat\" : ^_q.</td>\n",
              "    </tr>\n",
              "    <tr>\n",
              "      <th>25734</th>\n",
              "      <td>25734</td>\n",
              "      <td>Although I ca n't get a scholarship, because i...</td>\n",
              "      <td>Although I ca n't get a scholarship because it...</td>\n",
              "      <td>Although I ca n't get a scholarship because it...</td>\n",
              "      <td>Although I ca n't get a scholarship, because i...</td>\n",
              "      <td>Although I ca n't get a scholarship, becaPse i...</td>\n",
              "      <td>Although I ca n't get a scholars8ip, because i...</td>\n",
              "      <td>Although I ca !'t get a sc)olArshQp- because i...</td>\n",
              "      <td>AlthMugh I ca n'r get a sJholarship, b!cause i...</td>\n",
              "      <td>Althougp I ca n't ggt a sc]olarp&amp;ip, becausT i...</td>\n",
              "      <td>...</td>\n",
              "      <td>Although I can't get a skolars8ip, because it ...</td>\n",
              "      <td>Although I ca!'t get a sc)olArshQp- because it...</td>\n",
              "      <td>AlthMugh I ca n'r get a sJholarship, b!cause i...</td>\n",
              "      <td>Althougp I can't ggt a sc]olarp&amp;ip, becaust th...</td>\n",
              "      <td>Although I can't get a schoolrnhip, becsionuse...</td>\n",
              "      <td>Altho9gQ U can't met a Rcho9arship, becausq it...</td>\n",
              "      <td>9XthoNgh I cun't 8eA a @YholarOhi7, because @t...</td>\n",
              "      <td>H%th&lt;LM&amp;I ya n}t get @ }chmlfh&gt;qi^, be9DBse it...</td>\n",
              "      <td>BlPyg2 B #an't get a:chE+ars#i6, ) hcause it J...</td>\n",
              "      <td>S9&lt;)ouf%! ca n$t (Pt L!)7~Tar0pi+~ Rec+us+it K...</td>\n",
              "    </tr>\n",
              "    <tr>\n",
              "      <th>25735</th>\n",
              "      <td>25735</td>\n",
              "      <td>By the time I graduate from the university, I'...</td>\n",
              "      <td>By the time I will graduate from the universit...</td>\n",
              "      <td>By the time I will graduate from the universit...</td>\n",
              "      <td>By the time I graduate from the university, I'...</td>\n",
              "      <td>By the time I graduate from th] $niversity, I'...</td>\n",
              "      <td>By the time I graduate from *he univers-ty, I'...</td>\n",
              "      <td>By $he tim2 I gradsate from the un%versity, I'...</td>\n",
              "      <td>By Yx} time I graduste from &gt;he university, I'...</td>\n",
              "      <td>By the time I g)Eduate from the ^niversity, I'...</td>\n",
              "      <td>...</td>\n",
              "      <td>By the time I graduate from *he universs-ty, I...</td>\n",
              "      <td>By $he time2 I gradate from the un%versiony, I...</td>\n",
              "      <td>By Yx} time I graduste from &gt;he university, I'...</td>\n",
              "      <td>By the time I g)Eduate from the ^niversity, I'...</td>\n",
              "      <td>By thS time I graduate from the univeusity9 I'...</td>\n",
              "      <td>My the tiPe I }&amp;aiuatU b.os the uniYer\"ity, \"'...</td>\n",
              "      <td>W} w5c Mim3 I grad+ate #rom the un'verTityz IF...</td>\n",
              "      <td>By the ti+e I \\radqate fróA the 7n2ve@sCtN[ B@...</td>\n",
              "      <td>BR shallha G6m/I &lt;radu0.e ^=om dhe u]5Wer+ity,...</td>\n",
              "      <td>#0 hhe Itme I i=Hdu3+G fLgm sha u,!Eer&lt;YtyC I4...</td>\n",
              "    </tr>\n",
              "    <tr>\n",
              "      <th>25736</th>\n",
              "      <td>25736</td>\n",
              "      <td>: ) There is no one who does n't have their ow...</td>\n",
              "      <td>: ) There is no one who do n't have their own ...</td>\n",
              "      <td>: ) There is no one who do n't have their own ...</td>\n",
              "      <td>: ) There is no one who does n't have their ow...</td>\n",
              "      <td>: ) There is no one who does n't have their ow...</td>\n",
              "      <td>: ) There is no one why does n't have their ow...</td>\n",
              "      <td>: ) There is no one who doeJ n't hav: their ow...</td>\n",
              "      <td>: ) THerb is no oYe w5o does n't have their ow...</td>\n",
              "      <td>: , There is no one wio doHs n't hav' their ow...</td>\n",
              "      <td>...</td>\n",
              "      <td>:) There is no one why doesn't have their own ...</td>\n",
              "      <td>:) There is no one who doeJn't hav: their ow/ ...</td>\n",
              "      <td>:) THerb is no oYe w5o doesn't have their own ...</td>\n",
              "      <td>:, There is no one wi doHsn't hav' their own ]...</td>\n",
              "      <td>:) The6e is nu en who does n+t havj their owQ ...</td>\n",
              "      <td>:) fére is (o one who doesn't E*ve ghwir oen a...</td>\n",
              "      <td>:) -here t&amp; 3o one uh6 woesn't Aive thepr 6wn ...</td>\n",
              "      <td>H) =heQe in no -np wh-does H'(have EhY3r Rtn a...</td>\n",
              "      <td>: ) %herg xStudie Po Cne @ao,Mes d'F I=2O }#ei...</td>\n",
              "      <td>? ThI' z~ xX Yni (Oo Eovh n$t hj\\H th_y&amp; &gt;wn X...</td>\n",
              "    </tr>\n",
              "    <tr>\n",
              "      <th>25737</th>\n",
              "      <td>25737</td>\n",
              "      <td>I hope you, who are in the same situation, do ...</td>\n",
              "      <td>I hope you who are in the same situation do wh...</td>\n",
              "      <td>I hope you who are in the same situation, do w...</td>\n",
              "      <td>I hope you, who are in the same situation, do ...</td>\n",
              "      <td>I hope you, who are in the same situationr Co ...</td>\n",
              "      <td>I hope you, who are in the same situatiok, do ...</td>\n",
              "      <td>I hope you, mho are in the same situ/tibn, do ...</td>\n",
              "      <td>I hope you, who are (n tAe same =ituation, do ...</td>\n",
              "      <td>I hope you, who arz iw the same situation, do ...</td>\n",
              "      <td>...</td>\n",
              "      <td>I hope you, who are in the same situatiok, do ...</td>\n",
              "      <td>I hope you, mho are in the same situ/tibn, do ...</td>\n",
              "      <td>I hope you, who are (n tAe same = situation, d...</td>\n",
              "      <td>I hope you, who arz iw the same situation, do ...</td>\n",
              "      <td>I:ope you, who are in the tase otuayion, do w4...</td>\n",
              "      <td>I hope youz wqo are in thD same 1pt&lt;Ltion, do ...</td>\n",
              "      <td>Y hope you, So\" are E. Bie same sit#gYion, do ...</td>\n",
              "      <td>I noppz ]ou, 8ho aqI #n tu {qme si5Lution, do ...</td>\n",
              "      <td>I uOTE x+ur 5go ar@ in Lhe s+Ae &lt;&gt;t?/ti\\n, Xo ...</td>\n",
              "      <td>&amp; \"oV0 NGU, :(o aDe ;p gh! \\ ~me sitK$t+inK ho...</td>\n",
              "    </tr>\n",
              "  </tbody>\n",
              "</table>\n",
              "<p>25738 rows × 72 columns</p>\n",
              "</div>\n",
              "      <button class=\"colab-df-convert\" onclick=\"convertToInteractive('df-97623363-f006-4f5e-b451-27e4efe404a9')\"\n",
              "              title=\"Convert this dataframe to an interactive table.\"\n",
              "              style=\"display:none;\">\n",
              "        \n",
              "  <svg xmlns=\"http://www.w3.org/2000/svg\" height=\"24px\"viewBox=\"0 0 24 24\"\n",
              "       width=\"24px\">\n",
              "    <path d=\"M0 0h24v24H0V0z\" fill=\"none\"/>\n",
              "    <path d=\"M18.56 5.44l.94 2.06.94-2.06 2.06-.94-2.06-.94-.94-2.06-.94 2.06-2.06.94zm-11 1L8.5 8.5l.94-2.06 2.06-.94-2.06-.94L8.5 2.5l-.94 2.06-2.06.94zm10 10l.94 2.06.94-2.06 2.06-.94-2.06-.94-.94-2.06-.94 2.06-2.06.94z\"/><path d=\"M17.41 7.96l-1.37-1.37c-.4-.4-.92-.59-1.43-.59-.52 0-1.04.2-1.43.59L10.3 9.45l-7.72 7.72c-.78.78-.78 2.05 0 2.83L4 21.41c.39.39.9.59 1.41.59.51 0 1.02-.2 1.41-.59l7.78-7.78 2.81-2.81c.8-.78.8-2.07 0-2.86zM5.41 20L4 18.59l7.72-7.72 1.47 1.35L5.41 20z\"/>\n",
              "  </svg>\n",
              "      </button>\n",
              "      \n",
              "  <style>\n",
              "    .colab-df-container {\n",
              "      display:flex;\n",
              "      flex-wrap:wrap;\n",
              "      gap: 12px;\n",
              "    }\n",
              "\n",
              "    .colab-df-convert {\n",
              "      background-color: #E8F0FE;\n",
              "      border: none;\n",
              "      border-radius: 50%;\n",
              "      cursor: pointer;\n",
              "      display: none;\n",
              "      fill: #1967D2;\n",
              "      height: 32px;\n",
              "      padding: 0 0 0 0;\n",
              "      width: 32px;\n",
              "    }\n",
              "\n",
              "    .colab-df-convert:hover {\n",
              "      background-color: #E2EBFA;\n",
              "      box-shadow: 0px 1px 2px rgba(60, 64, 67, 0.3), 0px 1px 3px 1px rgba(60, 64, 67, 0.15);\n",
              "      fill: #174EA6;\n",
              "    }\n",
              "\n",
              "    [theme=dark] .colab-df-convert {\n",
              "      background-color: #3B4455;\n",
              "      fill: #D2E3FC;\n",
              "    }\n",
              "\n",
              "    [theme=dark] .colab-df-convert:hover {\n",
              "      background-color: #434B5C;\n",
              "      box-shadow: 0px 1px 3px 1px rgba(0, 0, 0, 0.15);\n",
              "      filter: drop-shadow(0px 1px 2px rgba(0, 0, 0, 0.3));\n",
              "      fill: #FFFFFF;\n",
              "    }\n",
              "  </style>\n",
              "\n",
              "      <script>\n",
              "        const buttonEl =\n",
              "          document.querySelector('#df-97623363-f006-4f5e-b451-27e4efe404a9 button.colab-df-convert');\n",
              "        buttonEl.style.display =\n",
              "          google.colab.kernel.accessAllowed ? 'block' : 'none';\n",
              "\n",
              "        async function convertToInteractive(key) {\n",
              "          const element = document.querySelector('#df-97623363-f006-4f5e-b451-27e4efe404a9');\n",
              "          const dataTable =\n",
              "            await google.colab.kernel.invokeFunction('convertToInteractive',\n",
              "                                                     [key], {});\n",
              "          if (!dataTable) return;\n",
              "\n",
              "          const docLinkHtml = 'Like what you see? Visit the ' +\n",
              "            '<a target=\"_blank\" href=https://colab.research.google.com/notebooks/data_table.ipynb>data table notebook</a>'\n",
              "            + ' to learn more about interactive tables.';\n",
              "          element.innerHTML = '';\n",
              "          dataTable['output_type'] = 'display_data';\n",
              "          await google.colab.output.renderOutput(dataTable, element);\n",
              "          const docLink = document.createElement('div');\n",
              "          docLink.innerHTML = docLinkHtml;\n",
              "          element.appendChild(docLink);\n",
              "        }\n",
              "      </script>\n",
              "    </div>\n",
              "  </div>\n",
              "  "
            ]
          },
          "metadata": {},
          "execution_count": 44
        }
      ],
      "source": [
        "data = pd.read_csv(\"/content/drive/MyDrive/0. Phase-2/Dataset/Main-Dataset.csv\")\n",
        "data.drop(['Unnamed: 0', 'Unnamed: 0.1'], axis=1, inplace=True)\n",
        "data"
      ]
    },
    {
      "cell_type": "code",
      "execution_count": null,
      "metadata": {
        "colab": {
          "base_uri": "https://localhost:8080/"
        },
        "id": "GJnclNp7j9eF",
        "outputId": "cd42a8e3-de7d-4428-830e-3de24e0dabf7"
      },
      "outputs": [
        {
          "name": "stdout",
          "output_type": "stream",
          "text": [
            "25738\n"
          ]
        }
      ],
      "source": [
        "input_zero_data = fd1['Input_zero'].tolist()\n",
        "\n",
        "inputZeroData = []\n",
        "\n",
        "for i in range(len(input_zero_data)):\n",
        "\n",
        "  s = str(input_zero_data[i])\n",
        "  inputZeroData.append(s)\n",
        "\n",
        "\n",
        "print(len(inputZeroData))"
      ]
    },
    {
      "cell_type": "code",
      "execution_count": null,
      "metadata": {
        "colab": {
          "base_uri": "https://localhost:8080/"
        },
        "id": "2aV6l6HikU3d",
        "outputId": "85a52b19-9372-4bf8-8349-b98ccd04c373"
      },
      "outputs": [
        {
          "name": "stdout",
          "output_type": "stream",
          "text": [
            "25738\n"
          ]
        }
      ],
      "source": [
        "input_11_data = fd1['Input_11'].tolist()\n",
        "\n",
        "input11Data = []\n",
        "\n",
        "for i in range(len(input_11_data)):\n",
        "\n",
        "  s = str(input_11_data[i])\n",
        "  input11Data.append(s)\n",
        "\n",
        "\n",
        "print(len(input11Data))"
      ]
    },
    {
      "cell_type": "code",
      "execution_count": null,
      "metadata": {
        "id": "P-0LYoEokfwF"
      },
      "outputs": [],
      "source": []
    },
    {
      "cell_type": "code",
      "execution_count": null,
      "metadata": {
        "colab": {
          "base_uri": "https://localhost:8080/"
        },
        "id": "RcPepGvJDYGX",
        "outputId": "657b5447-1075-481a-9ed1-a6545fc4da74"
      },
      "outputs": [
        {
          "name": "stdout",
          "output_type": "stream",
          "text": [
            "25738\n"
          ]
        }
      ],
      "source": [
        "input_new_data = data['ORIGINAL_INPUT'].tolist()\n",
        "\n",
        "inputData = []\n",
        "\n",
        "for i in range(len(input_new_data)):\n",
        "\n",
        "  s = str(input_new_data[i])\n",
        "  inputData.append(s)\n",
        "\n",
        "\n",
        "print(len(inputData))"
      ]
    },
    {
      "cell_type": "code",
      "execution_count": null,
      "metadata": {
        "colab": {
          "base_uri": "https://localhost:8080/"
        },
        "id": "uo0fZZzHD-xe",
        "outputId": "50090ff4-4dba-43ad-afa1-81cdb9be673a"
      },
      "outputs": [
        {
          "name": "stdout",
          "output_type": "stream",
          "text": [
            "Character Error Rates for Input wrt Target\n",
            "10.877\n",
            "Word Error Rates for Input wrt Target\n",
            "18.452\n"
          ]
        }
      ],
      "source": [
        "print(\"Character Error Rates for Input wrt Target\")\n",
        "inp = characterER(inputData,targetData)\n",
        "print(inp)\n",
        "print(\"Word Error Rates for Input wrt Target\")\n",
        "inp1 = wordER(inputData,targetData)\n",
        "print(inp1)\n"
      ]
    },
    {
      "cell_type": "code",
      "execution_count": null,
      "metadata": {
        "colab": {
          "base_uri": "https://localhost:8080/"
        },
        "id": "dqVH-MHVkmFh",
        "outputId": "4c707a0c-8a11-485d-b12e-37630b60fe08"
      },
      "outputs": [
        {
          "name": "stdout",
          "output_type": "stream",
          "text": [
            "Character Error Rates for Target\n",
            "0.0\n",
            "Word Error Rates for Target\n",
            "0.0\n",
            "Character Error Rates for Target\n",
            "10.625\n",
            "Word Error Rates for Target\n",
            "44.421\n"
          ]
        }
      ],
      "source": [
        "print(\"Character Error Rates for Target\")\n",
        "zero = characterER(inputZeroData,targetData)\n",
        "print(zero)\n",
        "print(\"Word Error Rates for Target\")\n",
        "zero1 = wordER(inputZeroData,targetData)\n",
        "print(zero1)\n",
        "\n",
        "print(\"Character Error Rates for Target\")\n",
        "zero11 = characterER(input11Data,targetData)\n",
        "print(zero11)\n",
        "print(\"Word Error Rates for Target\")\n",
        "zero112 = wordER(input11Data,targetData)\n",
        "print(zero112)"
      ]
    },
    {
      "cell_type": "code",
      "execution_count": null,
      "metadata": {
        "colab": {
          "base_uri": "https://localhost:8080/"
        },
        "id": "Ay5pwv_D4bJR",
        "outputId": "55e0f693-7de4-4d10-d21b-8c4894748c8a"
      },
      "outputs": [
        {
          "name": "stdout",
          "output_type": "stream",
          "text": [
            "25738\n"
          ]
        }
      ],
      "source": [
        "prediction_11_dataB = fd['Outputs_11_bart'].tolist()\n",
        "\n",
        "prediction11DataB = []\n",
        "\n",
        "for i in range(len(prediction_11_dataB)):\n",
        "\n",
        "  s = str(prediction_11_dataB[i])\n",
        "  prediction11DataB.append(s)\n",
        "\n",
        "\n",
        "print(len(prediction11DataB))"
      ]
    },
    {
      "cell_type": "code",
      "execution_count": null,
      "metadata": {
        "colab": {
          "base_uri": "https://localhost:8080/"
        },
        "id": "DzAzFxF24qtj",
        "outputId": "c6c4a205-fc6e-4a79-c696-865ed8f7a0e3"
      },
      "outputs": [
        {
          "name": "stdout",
          "output_type": "stream",
          "text": [
            "25738\n"
          ]
        }
      ],
      "source": [
        "prediction_11_dataM= fd1['Outputs_11'].tolist()\n",
        "\n",
        "prediction11DataM = []\n",
        "\n",
        "for i in range(len(prediction_11_dataM)):\n",
        "\n",
        "  s = str(prediction_11_dataM[i])\n",
        "  prediction11DataM.append(s)\n",
        "\n",
        "\n",
        "print(len(prediction11DataM))"
      ]
    },
    {
      "cell_type": "code",
      "execution_count": null,
      "metadata": {
        "colab": {
          "base_uri": "https://localhost:8080/"
        },
        "id": "bBvYqs244Wtr",
        "outputId": "ecd8609f-0781-488b-86f5-e3778a464c9b"
      },
      "outputs": [
        {
          "name": "stdout",
          "output_type": "stream",
          "text": [
            "25738\n"
          ]
        }
      ],
      "source": [
        "prediction_0_dataB = fd['Outputs_0_bart'].tolist()\n",
        "\n",
        "prediction0DataB = []\n",
        "\n",
        "for i in range(len(prediction_0_dataB)):\n",
        "\n",
        "  s = str(prediction_0_dataB[i])\n",
        "  prediction0DataB.append(s)\n",
        "\n",
        "\n",
        "print(len(prediction0DataB))"
      ]
    },
    {
      "cell_type": "code",
      "execution_count": null,
      "metadata": {
        "colab": {
          "base_uri": "https://localhost:8080/"
        },
        "id": "Zo8Qvpa8456L",
        "outputId": "4529b53e-52a8-40dd-9916-1cc88f49b87f"
      },
      "outputs": [
        {
          "name": "stdout",
          "output_type": "stream",
          "text": [
            "25738\n"
          ]
        }
      ],
      "source": [
        "prediction_0_dataM= fd1['Outputs_0'].tolist()\n",
        "\n",
        "prediction0DataM = []\n",
        "\n",
        "for i in range(len(prediction_0_dataM)):\n",
        "\n",
        "  s = str(prediction_0_dataM[i])\n",
        "  prediction0DataM.append(s)\n",
        "\n",
        "\n",
        "print(len(prediction0DataM))"
      ]
    },
    {
      "cell_type": "code",
      "execution_count": null,
      "metadata": {
        "colab": {
          "base_uri": "https://localhost:8080/"
        },
        "id": "KRW2EXU26Kiy",
        "outputId": "1ef04e4f-d930-4390-9ebd-0a680e84fdbd"
      },
      "outputs": [
        {
          "name": "stdout",
          "output_type": "stream",
          "text": [
            "Character Error Rates for Target\n",
            "3.755\n",
            "Word Error Rates for Target\n",
            "10.34\n",
            "Character Error Rates for Target\n",
            "18.852\n",
            "Word Error Rates for Target\n",
            "51.23\n"
          ]
        }
      ],
      "source": [
        "print(\"Character Error Rates for Target\")\n",
        "zero = characterER(prediction_0_dataM,targetData)\n",
        "print(zero)\n",
        "print(\"Word Error Rates for Target\")\n",
        "zero1 = wordER(prediction_0_dataM,targetData)\n",
        "print(zero1)\n",
        "\n",
        "print(\"Character Error Rates for Target\")\n",
        "zero11 = characterER(prediction_11_dataM,targetData)\n",
        "print(zero11)\n",
        "print(\"Word Error Rates for Target\")\n",
        "zero112 = wordER(prediction_11_dataM,targetData)\n",
        "print(zero112)"
      ]
    },
    {
      "cell_type": "markdown",
      "metadata": {
        "id": "yg9PSveHo9Le"
      },
      "source": [
        "# Marian MT"
      ]
    },
    {
      "cell_type": "markdown",
      "metadata": {
        "id": "-95kopGZP6l6"
      },
      "source": [
        "### Pre-Train v/s Transfer Learning"
      ]
    },
    {
      "cell_type": "markdown",
      "metadata": {
        "id": "75c8Yf77A4E0"
      },
      "source": [
        "\n",
        "\n",
        "> Target New Extraction\n",
        "\n"
      ]
    },
    {
      "cell_type": "code",
      "execution_count": null,
      "metadata": {
        "colab": {
          "base_uri": "https://localhost:8080/"
        },
        "id": "EFYkmXr_h_lc",
        "outputId": "0cb6b73b-16fd-40c2-c7be-d798af7a710c"
      },
      "outputs": [
        {
          "name": "stdout",
          "output_type": "stream",
          "text": [
            "25738\n"
          ]
        }
      ],
      "source": [
        "target_new_data = data['TARGET'].tolist()\n",
        "\n",
        "targetData = []\n",
        "\n",
        "for i in range(len(target_new_data)):\n",
        "\n",
        "  s = str(target_new_data[i])\n",
        "  targetData.append(s)\n",
        "\n",
        "\n",
        "print(len(targetData))"
      ]
    },
    {
      "cell_type": "markdown",
      "metadata": {
        "id": "8lmiSaieyIAR"
      },
      "source": [
        "\n",
        "\n",
        "> Pre-Train MarianMT\n",
        "\n"
      ]
    },
    {
      "cell_type": "code",
      "execution_count": null,
      "metadata": {
        "colab": {
          "base_uri": "https://localhost:8080/",
          "height": 244
        },
        "id": "oVlyFyn6ycuW",
        "outputId": "f1cb1737-468e-4697-cadc-133bcd052195"
      },
      "outputs": [
        {
          "ename": "NameError",
          "evalue": "ignored",
          "output_type": "error",
          "traceback": [
            "\u001b[0;31m---------------------------------------------------------------------------\u001b[0m",
            "\u001b[0;31mNameError\u001b[0m                                 Traceback (most recent call last)",
            "\u001b[0;32m<ipython-input-41-7a30212dd0a4>\u001b[0m in \u001b[0;36m<cell line: 1>\u001b[0;34m()\u001b[0m\n\u001b[0;32m----> 1\u001b[0;31m \u001b[0mmarianPreTrainData\u001b[0m \u001b[0;34m=\u001b[0m \u001b[0mdfBART\u001b[0m\u001b[0;34m[\u001b[0m\u001b[0;34m\"predictions_input_MT\"\u001b[0m\u001b[0;34m]\u001b[0m\u001b[0;34m.\u001b[0m\u001b[0mtolist\u001b[0m\u001b[0;34m(\u001b[0m\u001b[0;34m)\u001b[0m\u001b[0;34m\u001b[0m\u001b[0;34m\u001b[0m\u001b[0m\n\u001b[0m\u001b[1;32m      2\u001b[0m \u001b[0mprint\u001b[0m\u001b[0;34m(\u001b[0m\u001b[0;34m\"Character Error Rates\"\u001b[0m\u001b[0;34m)\u001b[0m\u001b[0;34m\u001b[0m\u001b[0;34m\u001b[0m\u001b[0m\n\u001b[1;32m      3\u001b[0m \u001b[0mmarianPTC\u001b[0m \u001b[0;34m=\u001b[0m \u001b[0mcharacterER\u001b[0m\u001b[0;34m(\u001b[0m\u001b[0mmarianPreTrainData\u001b[0m\u001b[0;34m,\u001b[0m\u001b[0mtargetData\u001b[0m\u001b[0;34m)\u001b[0m\u001b[0;34m\u001b[0m\u001b[0;34m\u001b[0m\u001b[0m\n\u001b[1;32m      4\u001b[0m \u001b[0mprint\u001b[0m\u001b[0;34m(\u001b[0m\u001b[0;34m\"Word Error Rates\"\u001b[0m\u001b[0;34m)\u001b[0m\u001b[0;34m\u001b[0m\u001b[0;34m\u001b[0m\u001b[0m\n\u001b[1;32m      5\u001b[0m \u001b[0mmarianPTW\u001b[0m \u001b[0;34m=\u001b[0m \u001b[0mwordER\u001b[0m\u001b[0;34m(\u001b[0m\u001b[0mmarianPreTrainData\u001b[0m\u001b[0;34m,\u001b[0m\u001b[0mtargetData\u001b[0m\u001b[0;34m)\u001b[0m\u001b[0;34m\u001b[0m\u001b[0;34m\u001b[0m\u001b[0m\n",
            "\u001b[0;31mNameError\u001b[0m: name 'dfBART' is not defined"
          ]
        }
      ],
      "source": [
        "marianPreTrainData = dfBART[\"predictions_input_MT\"].tolist()\n",
        "print(\"Character Error Rates\")\n",
        "marianPTC = characterER(marianPreTrainData,targetData)\n",
        "print(\"Word Error Rates\")\n",
        "marianPTW = wordER(marianPreTrainData,targetData)\n"
      ]
    },
    {
      "cell_type": "markdown",
      "metadata": {
        "id": "KIxhfv2HQarK"
      },
      "source": [
        "\n",
        "\n",
        "> MarianMT Data Extration - 1_EPOCH\n",
        "\n"
      ]
    },
    {
      "cell_type": "code",
      "execution_count": null,
      "metadata": {
        "id": "yT6iH5eXQf7R"
      },
      "outputs": [],
      "source": [
        "marian_data = data['MARIANMT'].tolist()\n",
        "print(\"Character Error Rates\")\n",
        "marian1C = characterER(marian_data,targetData)\n",
        "print(\"Word Error Rates\")\n",
        "marian1W = wordER(marian_data,targetData)"
      ]
    },
    {
      "cell_type": "markdown",
      "metadata": {
        "id": "q7cIZDPHhszb"
      },
      "source": [
        "\n",
        "\n",
        "> MarianMT Data Extration - 3_EPOCH\n",
        "\n"
      ]
    },
    {
      "cell_type": "code",
      "execution_count": null,
      "metadata": {
        "id": "1VY0FVunhzDt"
      },
      "outputs": [],
      "source": [
        "marian_data3 = data['predictions_input_mt'].tolist()\n",
        "print(\"Character Error Rates\")\n",
        "marian3C = characterER(marian_data3,targetData)\n",
        "print(\"Word Error Rates\")\n",
        "marian3W = wordER(marian_data3,targetData)"
      ]
    },
    {
      "cell_type": "markdown",
      "metadata": {
        "id": "mXB-3gI8zc8a"
      },
      "source": [
        "\n",
        "\n",
        "> Analysis\n",
        "\n"
      ]
    },
    {
      "cell_type": "code",
      "execution_count": null,
      "metadata": {
        "id": "9zzCVu5JzelF"
      },
      "outputs": [],
      "source": [
        "values = [\n",
        "    [\"Pre Train\", marianPTC, marianPTW ],\n",
        "    [\"Epoch-1\", marian1C, marian1W],\n",
        "    [\"Improvement from Pre-Train\", marianPTC-marian1C, marianPTW-marian1W],\n",
        "    [\"Epoch-3\", marian3C, marian3W],\n",
        "    [\"Improvement from Pre-Train\", marianPTC-marian3C, marianPTW-marian3W],\n",
        "    [\"Improvement from First Epoch\", marian1C-marian3C, marian1W-marian3W]\n",
        "]\n",
        "df = pd.DataFrame(values, columns=['Parameter', 'CER', 'WER'])\n",
        "df"
      ]
    },
    {
      "cell_type": "markdown",
      "metadata": {
        "id": "49sp3gXJm9vm"
      },
      "source": [
        "\n",
        "### Natural Error\n",
        "\n"
      ]
    },
    {
      "cell_type": "markdown",
      "metadata": {
        "id": "BmFU2EGON7Vq"
      },
      "source": [
        "\n",
        "\n",
        "> Target Data\n",
        "\n"
      ]
    },
    {
      "cell_type": "code",
      "execution_count": null,
      "metadata": {
        "id": "vPVscLHhN9oZ"
      },
      "outputs": [],
      "source": [
        "target_natural_data = dat['NATURAL_ERROR_INPUT'].tolist()\n",
        "\n",
        "naturalData = []\n",
        "\n",
        "for i in range(len(target_natural_data)):\n",
        "\n",
        "  s = str(target_natural_data[i])\n",
        "  naturalData.append(s)\n",
        "\n",
        "\n",
        "print(len(naturalData))"
      ]
    },
    {
      "cell_type": "markdown",
      "metadata": {
        "id": "mU_fT_hmN994"
      },
      "source": [
        "\n",
        "\n",
        "> Natural Prediction\n",
        "\n"
      ]
    },
    {
      "cell_type": "code",
      "execution_count": null,
      "metadata": {
        "id": "Pvsf-g2dOBWa"
      },
      "outputs": [],
      "source": [
        "predictions_natural_data = data['MARIANMT_ NATURAL_PREDICTIONS'].tolist()\n",
        "\n",
        "predictionsNaturalData = []\n",
        "\n",
        "for i in range(len(predictions_natural_data)):\n",
        "\n",
        "  s = str(predictions_natural_data[i])\n",
        "  predictionsNaturalData.append(s)\n",
        "\n",
        "\n",
        "print(len(predictionsNaturalData))"
      ]
    },
    {
      "cell_type": "markdown",
      "metadata": {
        "id": "JnB5xrIcPNVB"
      },
      "source": [
        "\n",
        "\n",
        "> Analysis\n",
        "\n"
      ]
    },
    {
      "cell_type": "code",
      "execution_count": null,
      "metadata": {
        "id": "iU2I3E4ePRyH"
      },
      "outputs": [],
      "source": [
        "print(\"Character Error Rates for Target\")\n",
        "m = characterER(naturalData,targetData)\n",
        "print(m)\n",
        "print(\"Word Error Rates for Target\")\n",
        "m1 = wordER(naturalData,targetData)\n",
        "print(m1)\n",
        "print(\"\\n-----------------------------------\\n\")\n",
        "print(\"Character Error Rates for Preditction\")\n",
        "m2 = characterER(predictionsNaturalData,targetData)\n",
        "print(m2)\n",
        "print(\"Word Error Rates for Prediction\")\n",
        "m3 = wordER(predictionsNaturalData,targetData)\n",
        "print(m3)\n",
        "print(\"\\n-----------------------------------\\n\")\n",
        "print(\"Difference Between Target vs Prediction using CER Metric\")\n",
        "print(round(m-m2,3))\n",
        "print(\"Difference Between Target vs Prediction using WER Metric\")\n",
        "print(round(m1-m3,3))"
      ]
    },
    {
      "cell_type": "markdown",
      "metadata": {
        "id": "oQdmoCf3nHlo"
      },
      "source": [
        "### 2% Error Data"
      ]
    },
    {
      "cell_type": "markdown",
      "metadata": {
        "id": "ItqfxXaZOCby"
      },
      "source": [
        "\n",
        "\n",
        "> Target Data\n",
        "\n"
      ]
    },
    {
      "cell_type": "code",
      "execution_count": null,
      "metadata": {
        "colab": {
          "base_uri": "https://localhost:8080/"
        },
        "id": "WaXMyAIgOE31",
        "outputId": "fe763d8d-963f-42e5-a5a9-0598c576de8d"
      },
      "outputs": [
        {
          "name": "stdout",
          "output_type": "stream",
          "text": [
            "25738\n"
          ]
        }
      ],
      "source": [
        "target_2_data = data['INPUT_2_ERROR'].tolist()\n",
        "\n",
        "twoData = []\n",
        "\n",
        "for i in range(len(target_2_data)):\n",
        "\n",
        "  s = str(target_2_data[i])\n",
        "  twoData .append(s)\n",
        "\n",
        "\n",
        "print(len(twoData))"
      ]
    },
    {
      "cell_type": "markdown",
      "metadata": {
        "id": "EAVtI-mFOFSI"
      },
      "source": [
        "\n",
        "\n",
        "> Prediction Data\n",
        "\n",
        "\n",
        "\n",
        "\n",
        "\n"
      ]
    },
    {
      "cell_type": "code",
      "execution_count": null,
      "metadata": {
        "colab": {
          "base_uri": "https://localhost:8080/"
        },
        "id": "DeW_KSTKOJCA",
        "outputId": "e0a9781f-a5a8-4bf8-9d5e-4ae70ae3aaaa"
      },
      "outputs": [
        {
          "name": "stdout",
          "output_type": "stream",
          "text": [
            "25738\n"
          ]
        }
      ],
      "source": [
        "predictions_two_data = data['MARIANMT_2_PREDICTIONS'].tolist()\n",
        "\n",
        "predictionsTwoData = []\n",
        "\n",
        "for i in range(len(predictions_two_data)):\n",
        "\n",
        "  s = str(predictions_two_data[i])\n",
        "  predictionsTwoData.append(s)\n",
        "\n",
        "\n",
        "print(len(predictionsTwoData))"
      ]
    },
    {
      "cell_type": "markdown",
      "metadata": {
        "id": "B5bTo9cfQeNe"
      },
      "source": [
        "\n",
        "\n",
        "> Analysis\n",
        "\n"
      ]
    },
    {
      "cell_type": "code",
      "execution_count": null,
      "metadata": {
        "colab": {
          "base_uri": "https://localhost:8080/"
        },
        "id": "xkpZVRQ_QgEx",
        "outputId": "0f41bfae-1491-4753-8ef0-add6390ece5c"
      },
      "outputs": [
        {
          "name": "stdout",
          "output_type": "stream",
          "text": [
            "Character Error Rates for Target\n",
            "3.815\n",
            "Word Error Rates for Target\n",
            "18.933\n",
            "\n",
            "-----------------------------------\n",
            "\n",
            "Character Error Rates for Preditction\n",
            "8.985\n",
            "Word Error Rates for Prediction\n",
            "26.344\n",
            "\n",
            "-----------------------------------\n",
            "\n",
            "Difference Between Target vs Prediction using CER Metric\n",
            "-5.17\n",
            "Difference Between Target vs Prediction using WER Metric\n",
            "-7.411\n"
          ]
        }
      ],
      "source": [
        "print(\"Character Error Rates for Target\")\n",
        "m4 = characterER(twoData,targetData)\n",
        "print(m4)\n",
        "print(\"Word Error Rates for Target\")\n",
        "m5 = wordER(twoData,targetData)\n",
        "print(m5)\n",
        "print(\"\\n-----------------------------------\\n\")\n",
        "print(\"Character Error Rates for Preditction\")\n",
        "m6 = characterER(predictionsTwoData,targetData)\n",
        "print(m6)\n",
        "print(\"Word Error Rates for Prediction\")\n",
        "m7 = wordER(predictionsTwoData,targetData)\n",
        "print(m7)\n",
        "print(\"\\n-----------------------------------\\n\")\n",
        "print(\"Difference Between Target vs Prediction using CER Metric\")\n",
        "print(round(m4-m6,3))\n",
        "print(\"Difference Between Target vs Prediction using WER Metric\")\n",
        "print(round(m5-m7,3))"
      ]
    },
    {
      "cell_type": "markdown",
      "metadata": {
        "id": "b-gTD5YznN_F"
      },
      "source": [
        "### 4% Error Data"
      ]
    },
    {
      "cell_type": "markdown",
      "metadata": {
        "id": "2bDXAcuXOJq8"
      },
      "source": [
        "\n",
        "\n",
        "> Target Data\n",
        "\n"
      ]
    },
    {
      "cell_type": "code",
      "execution_count": null,
      "metadata": {
        "colab": {
          "base_uri": "https://localhost:8080/"
        },
        "id": "j4FKmtoHOL7E",
        "outputId": "4f9aaa67-d742-4328-8f83-ff8d932acd01"
      },
      "outputs": [
        {
          "name": "stdout",
          "output_type": "stream",
          "text": [
            "25738\n"
          ]
        }
      ],
      "source": [
        "target_4_data = data['INPUT_4_ERROR'].tolist()\n",
        "\n",
        "fourData = []\n",
        "\n",
        "for i in range(len(target_4_data)):\n",
        "\n",
        "  s = str(target_4_data[i])\n",
        "  fourData .append(s)\n",
        "\n",
        "\n",
        "print(len(fourData))"
      ]
    },
    {
      "cell_type": "markdown",
      "metadata": {
        "id": "PQIVrmoAOMWz"
      },
      "source": [
        "\n",
        "\n",
        "> Prediction Data\n",
        "\n"
      ]
    },
    {
      "cell_type": "code",
      "execution_count": null,
      "metadata": {
        "colab": {
          "base_uri": "https://localhost:8080/"
        },
        "id": "yhQgZtoGOPeZ",
        "outputId": "b35a442e-1213-4995-c325-0ade8dad523b"
      },
      "outputs": [
        {
          "name": "stdout",
          "output_type": "stream",
          "text": [
            "25738\n"
          ]
        }
      ],
      "source": [
        "predictions_four_data = data['MARIANMT_4_PREDICTIONS'].tolist()\n",
        "\n",
        "predictionsFourData = []\n",
        "\n",
        "for i in range(len(predictions_four_data)):\n",
        "\n",
        "  s = str(predictions_four_data[i])\n",
        "  predictionsFourData.append(s)\n",
        "\n",
        "\n",
        "print(len(predictionsFourData))"
      ]
    },
    {
      "cell_type": "markdown",
      "metadata": {
        "id": "akEL-ec8RWtV"
      },
      "source": [
        "\n",
        "\n",
        "> Analysis\n",
        "\n"
      ]
    },
    {
      "cell_type": "code",
      "execution_count": null,
      "metadata": {
        "colab": {
          "base_uri": "https://localhost:8080/"
        },
        "id": "ht-vmyrLRYlM",
        "outputId": "534a3d48-66e4-4768-d21c-466edb41aa6b"
      },
      "outputs": [
        {
          "name": "stdout",
          "output_type": "stream",
          "text": [
            "Character Error Rates for Target\n",
            "5.167\n",
            "Word Error Rates for Target\n",
            "24.895\n",
            "\n",
            "-----------------------------------\n",
            "\n",
            "Character Error Rates for Preditction\n",
            "11.019\n",
            "Word Error Rates for Prediction\n",
            "31.85\n",
            "\n",
            "-----------------------------------\n",
            "\n",
            "Difference Between Target vs Prediction using CER Metric\n",
            "-5.852\n",
            "Difference Between Target vs Prediction using WER Metric\n",
            "-6.955\n"
          ]
        }
      ],
      "source": [
        "print(\"Character Error Rates for Target\")\n",
        "m8 = characterER(fourData,targetData)\n",
        "print(m8)\n",
        "print(\"Word Error Rates for Target\")\n",
        "m9 = wordER(fourData,targetData)\n",
        "print(m9)\n",
        "print(\"\\n-----------------------------------\\n\")\n",
        "print(\"Character Error Rates for Preditction\")\n",
        "m10 = characterER(predictionsFourData,targetData)\n",
        "print(m10)\n",
        "print(\"Word Error Rates for Prediction\")\n",
        "m11 = wordER(predictionsFourData,targetData)\n",
        "print(m11)\n",
        "print(\"\\n-----------------------------------\\n\")\n",
        "print(\"Difference Between Target vs Prediction using CER Metric\")\n",
        "print(round(m8-m10,3))\n",
        "print(\"Difference Between Target vs Prediction using WER Metric\")\n",
        "print(round(m9-m11,3))"
      ]
    },
    {
      "cell_type": "markdown",
      "metadata": {
        "id": "k885MoWRnQpV"
      },
      "source": [
        "### 6% Error Data"
      ]
    },
    {
      "cell_type": "markdown",
      "metadata": {
        "id": "eRU0T3KBOQFh"
      },
      "source": [
        "\n",
        "\n",
        "> Target Data\n",
        "\n"
      ]
    },
    {
      "cell_type": "code",
      "execution_count": null,
      "metadata": {
        "colab": {
          "base_uri": "https://localhost:8080/"
        },
        "id": "5XzDdBtZOSzU",
        "outputId": "a5d00b9a-e950-488f-b9a8-c9af15cea6cf"
      },
      "outputs": [
        {
          "name": "stdout",
          "output_type": "stream",
          "text": [
            "25738\n"
          ]
        }
      ],
      "source": [
        "target_6_data = data['INPUT_6_ERROR'].tolist()\n",
        "\n",
        "sixData = []\n",
        "\n",
        "for i in range(len(target_6_data)):\n",
        "\n",
        "  s = str(target_6_data[i])\n",
        "  sixData.append(s)\n",
        "\n",
        "\n",
        "print(len(sixData))"
      ]
    },
    {
      "cell_type": "markdown",
      "metadata": {
        "id": "oc4BX0psOTKV"
      },
      "source": [
        "\n",
        "\n",
        "> Prediction Data\n",
        "\n"
      ]
    },
    {
      "cell_type": "code",
      "execution_count": null,
      "metadata": {
        "colab": {
          "base_uri": "https://localhost:8080/"
        },
        "id": "-80fqdbJOXcL",
        "outputId": "1f2be7c3-fd53-4874-d7ce-8292fd3a3604"
      },
      "outputs": [
        {
          "name": "stdout",
          "output_type": "stream",
          "text": [
            "25738\n"
          ]
        }
      ],
      "source": [
        "predictions_six_data = data['MARIANMT_6_PREDICTIONS'].tolist()\n",
        "\n",
        "predictionsSixData = []\n",
        "\n",
        "for i in range(len(predictions_six_data)):\n",
        "\n",
        "  s = str(predictions_six_data[i])\n",
        "  predictionsSixData.append(s)\n",
        "\n",
        "\n",
        "print(len(predictionsSixData))"
      ]
    },
    {
      "cell_type": "markdown",
      "metadata": {
        "id": "aBOhMG37SGXI"
      },
      "source": [
        "\n",
        "\n",
        "> Analysis\n",
        "\n"
      ]
    },
    {
      "cell_type": "code",
      "execution_count": null,
      "metadata": {
        "colab": {
          "base_uri": "https://localhost:8080/"
        },
        "id": "prLASJ6fSIlw",
        "outputId": "0032a728-c723-4552-bce6-209ea635ccf1"
      },
      "outputs": [
        {
          "name": "stdout",
          "output_type": "stream",
          "text": [
            "Character Error Rates for Target\n",
            "6.732\n",
            "Word Error Rates for Target\n",
            "31.23\n",
            "\n",
            "-----------------------------------\n",
            "\n",
            "Character Error Rates for Preditction\n",
            "13.117\n",
            "Word Error Rates for Prediction\n",
            "37.652\n",
            "\n",
            "-----------------------------------\n",
            "\n",
            "Difference Between Target vs Prediction using CER Metric\n",
            "-6.385\n",
            "Difference Between Target vs Prediction using WER Metric\n",
            "-6.422\n"
          ]
        }
      ],
      "source": [
        "print(\"Character Error Rates for Target\")\n",
        "m12 = characterER(sixData,targetData)\n",
        "print(m12)\n",
        "print(\"Word Error Rates for Target\")\n",
        "m13 = wordER(sixData,targetData)\n",
        "print(m13)\n",
        "print(\"\\n-----------------------------------\\n\")\n",
        "print(\"Character Error Rates for Preditction\")\n",
        "m14 = characterER(predictionsSixData,targetData)\n",
        "print(m14)\n",
        "print(\"Word Error Rates for Prediction\")\n",
        "m15 = wordER(predictionsSixData,targetData)\n",
        "print(m15)\n",
        "print(\"\\n-----------------------------------\\n\")\n",
        "print(\"Difference Between Target vs Prediction using CER Metric\")\n",
        "print(round(m12-m14,3))\n",
        "print(\"Difference Between Target vs Prediction using WER Metric\")\n",
        "print(round(m13-m15,3))"
      ]
    },
    {
      "cell_type": "markdown",
      "metadata": {
        "id": "E6RGUKM7nTat"
      },
      "source": [
        "### 8% Error Data"
      ]
    },
    {
      "cell_type": "markdown",
      "metadata": {
        "id": "oY8wgGNEOYlG"
      },
      "source": [
        "\n",
        "\n",
        "> Target Data\n",
        "\n"
      ]
    },
    {
      "cell_type": "code",
      "execution_count": null,
      "metadata": {
        "colab": {
          "base_uri": "https://localhost:8080/"
        },
        "id": "7qGx0CPQObCL",
        "outputId": "1d2afc9c-d594-4bd3-a8a8-cdf3c7bdc310"
      },
      "outputs": [
        {
          "name": "stdout",
          "output_type": "stream",
          "text": [
            "25738\n"
          ]
        }
      ],
      "source": [
        "target_8_data = data['INPUT_8_ERROR'].tolist()\n",
        "\n",
        "eightData = []\n",
        "\n",
        "for i in range(len(target_8_data)):\n",
        "\n",
        "  s = str(target_8_data[i])\n",
        "  eightData.append(s)\n",
        "\n",
        "\n",
        "print(len(eightData))"
      ]
    },
    {
      "cell_type": "markdown",
      "metadata": {
        "id": "qQzLrve9ObUE"
      },
      "source": [
        "\n",
        "\n",
        "> Prediction Data\n",
        "\n"
      ]
    },
    {
      "cell_type": "code",
      "execution_count": null,
      "metadata": {
        "colab": {
          "base_uri": "https://localhost:8080/"
        },
        "id": "OeofOQdGOeJ4",
        "outputId": "f68562d2-40d9-4fbd-ea60-03e3ce04ace6"
      },
      "outputs": [
        {
          "name": "stdout",
          "output_type": "stream",
          "text": [
            "25738\n"
          ]
        }
      ],
      "source": [
        "predictions_eigth_data = data['MARIANMT_8_PREDICTIONS'].tolist()\n",
        "\n",
        "predictionsEightData = []\n",
        "\n",
        "for i in range(len(predictions_eigth_data)):\n",
        "\n",
        "  s = str(predictions_eigth_data[i])\n",
        "  predictionsEightData.append(s)\n",
        "\n",
        "\n",
        "print(len(predictionsEightData))"
      ]
    },
    {
      "cell_type": "markdown",
      "metadata": {
        "id": "bINsxbNySwiC"
      },
      "source": [
        "\n",
        "\n",
        "> Analysis\n",
        "\n"
      ]
    },
    {
      "cell_type": "code",
      "execution_count": null,
      "metadata": {
        "colab": {
          "base_uri": "https://localhost:8080/"
        },
        "id": "3BStqNRBS0so",
        "outputId": "b9051b19-3152-458a-ea6a-27d77bd61e8d"
      },
      "outputs": [
        {
          "name": "stdout",
          "output_type": "stream",
          "text": [
            "Character Error Rates for Target\n",
            "8.345\n",
            "Word Error Rates for Target\n",
            "36.962\n",
            "\n",
            "-----------------------------------\n",
            "\n",
            "Character Error Rates for Preditction\n",
            "15.518\n",
            "Word Error Rates for Prediction\n",
            "43.314\n",
            "\n",
            "-----------------------------------\n",
            "\n",
            "Difference Between Target vs Prediction using CER Metric\n",
            "-7.173\n",
            "Difference Between Target vs Prediction using WER Metric\n",
            "-6.352\n"
          ]
        }
      ],
      "source": [
        "print(\"Character Error Rates for Target\")\n",
        "m16 = characterER(eightData,targetData)\n",
        "print(m16)\n",
        "print(\"Word Error Rates for Target\")\n",
        "m17 = wordER(eightData,targetData)\n",
        "print(m17)\n",
        "print(\"\\n-----------------------------------\\n\")\n",
        "print(\"Character Error Rates for Preditction\")\n",
        "m18 = characterER(predictionsEightData,targetData)\n",
        "print(m18)\n",
        "print(\"Word Error Rates for Prediction\")\n",
        "m19 = wordER(predictionsEightData,targetData)\n",
        "print(m19)\n",
        "print(\"\\n-----------------------------------\\n\")\n",
        "print(\"Difference Between Target vs Prediction using CER Metric\")\n",
        "print(round(m16-m18,3))\n",
        "print(\"Difference Between Target vs Prediction using WER Metric\")\n",
        "print(round(m17-m19,3))"
      ]
    },
    {
      "cell_type": "markdown",
      "metadata": {
        "id": "Z2SbVsqZA-sE"
      },
      "source": [
        "### 10% Error Data"
      ]
    },
    {
      "cell_type": "markdown",
      "metadata": {
        "id": "V_xEzaNMBggV"
      },
      "source": [
        "\n",
        "\n",
        "> Target 10 Extraction\n",
        "\n"
      ]
    },
    {
      "cell_type": "code",
      "execution_count": null,
      "metadata": {
        "colab": {
          "base_uri": "https://localhost:8080/"
        },
        "id": "1tooeYRsBFYq",
        "outputId": "08f5a5fa-2b86-4be9-e05e-55f4bea89d25"
      },
      "outputs": [
        {
          "name": "stdout",
          "output_type": "stream",
          "text": [
            "25738\n"
          ]
        }
      ],
      "source": [
        "target_10_data = data['INPUT_10_ERROR'].tolist()\n",
        "\n",
        "target10Data = []\n",
        "\n",
        "for i in range(len(target_10_data)):\n",
        "\n",
        "  s = str(target_10_data[i])\n",
        "  target10Data.append(s)\n",
        "\n",
        "\n",
        "print(len(target10Data))"
      ]
    },
    {
      "cell_type": "markdown",
      "metadata": {
        "id": "vWR_ZcHzCYON"
      },
      "source": [
        "\n",
        "\n",
        "> Prediction 10 Extraction\n",
        "\n"
      ]
    },
    {
      "cell_type": "code",
      "execution_count": null,
      "metadata": {
        "colab": {
          "base_uri": "https://localhost:8080/"
        },
        "id": "33YgmqNBCcRT",
        "outputId": "68b6cdc5-16d1-48e2-e985-41b89c6ab649"
      },
      "outputs": [
        {
          "name": "stdout",
          "output_type": "stream",
          "text": [
            "25738\n"
          ]
        }
      ],
      "source": [
        "predictions_10_data = data['MARIANMT_10_PREDICTIONS'].tolist()\n",
        "\n",
        "predictions10Data = []\n",
        "\n",
        "for i in range(len(predictions_10_data)):\n",
        "\n",
        "  s = str(predictions_10_data[i])\n",
        "  predictions10Data.append(s)\n",
        "\n",
        "\n",
        "print(len(predictions10Data))"
      ]
    },
    {
      "cell_type": "markdown",
      "metadata": {
        "id": "UC4bUFmlbIXJ"
      },
      "source": [
        "\n",
        "\n",
        "> Error Analysis\n",
        "\n"
      ]
    },
    {
      "cell_type": "code",
      "execution_count": null,
      "metadata": {
        "id": "THVSt7vkbLKc"
      },
      "outputs": [],
      "source": [
        "print(\"Character Error Rates for Target\")\n",
        "a = characterER(target10Data,targetData)\n",
        "print(a)\n",
        "print(\"Word Error Rates for Target\")\n",
        "a1 = wordER(target10Data,targetData)\n",
        "print(a1)\n",
        "print(\"-----------------------------------\")\n",
        "print(\"Character Error Rates for Preditction\")\n",
        "a2 = characterER(predictions10Data,targetData)\n",
        "print(a2)\n",
        "print(\"Word Error Rates for Prediction\")\n",
        "a3 = wordER(predictions10Data,targetData)\n",
        "print(a3)\n",
        "print(\"Difference Between Target vs Prediction using CER Metric\")\n",
        "print(round(a-a2,3))\n",
        "print(\"Difference Between Target vs Prediction using WER Metric\")\n",
        "print(round(a1-a3,3))\n",
        "\n",
        "print(\"##############################################################\\n###########################################################\\n#################################################\")\n"
      ]
    },
    {
      "cell_type": "markdown",
      "metadata": {
        "id": "yPY4W2ky3iIn"
      },
      "source": [
        "## 11% Error Data"
      ]
    },
    {
      "cell_type": "code",
      "execution_count": null,
      "metadata": {
        "id": "7rKE__O_3kgI"
      },
      "outputs": [],
      "source": []
    },
    {
      "cell_type": "markdown",
      "metadata": {
        "id": "Nr0irwCmC8vG"
      },
      "source": [
        "\n",
        "\n",
        "\n",
        "\n",
        "### 20 % Error Data"
      ]
    },
    {
      "cell_type": "markdown",
      "metadata": {
        "id": "2zfcT_oUDHXU"
      },
      "source": [
        "\n",
        "\n",
        "> Target 20 Extraction\n",
        "\n"
      ]
    },
    {
      "cell_type": "code",
      "execution_count": null,
      "metadata": {
        "id": "p5wNX_z3DBlH"
      },
      "outputs": [],
      "source": [
        "target_20_data = data['INPUT_20_ERROR'].tolist()\n",
        "\n",
        "target20Data = []\n",
        "\n",
        "for i in range(len(target_20_data)):\n",
        "\n",
        "  s = str(target_20_data[i])\n",
        "  target20Data.append(s)\n",
        "\n",
        "\n",
        "print(len(target20Data))"
      ]
    },
    {
      "cell_type": "markdown",
      "metadata": {
        "id": "dmmykDPeDLUY"
      },
      "source": [
        "\n",
        "\n",
        "> Prediction 20 Extraction\n",
        "\n"
      ]
    },
    {
      "cell_type": "code",
      "execution_count": null,
      "metadata": {
        "id": "11-0WAVeDEsA"
      },
      "outputs": [],
      "source": [
        "predictions_20_data = data['MARIANMT_20_PREDICTIONS'].tolist()\n",
        "\n",
        "predictions20Data = []\n",
        "\n",
        "for i in range(len(predictions_20_data)):\n",
        "\n",
        "  s = str(predictions_20_data[i])\n",
        "  predictions20Data.append(s)\n",
        "\n",
        "\n",
        "print(len(predictions20Data))"
      ]
    },
    {
      "cell_type": "markdown",
      "metadata": {
        "id": "hw-uFvT4bumt"
      },
      "source": [
        "\n",
        "\n",
        "> Error Analysis\n",
        "\n"
      ]
    },
    {
      "cell_type": "code",
      "execution_count": null,
      "metadata": {
        "id": "3F-yAeS7bxoh"
      },
      "outputs": [],
      "source": [
        "print(\"Character Error Rates for Target\")\n",
        "b = characterER(target20Data,targetData)\n",
        "print(b)\n",
        "print(\"Word Error Rates for Target\")\n",
        "b1 = wordER(target20Data,targetData)\n",
        "print(b1)\n",
        "print(\"-----------------------------------\")\n",
        "print(\"Character Error Rates for Preditction\")\n",
        "b2 = characterER(predictions20Data,targetData)\n",
        "print(b2)\n",
        "print(\"Word Error Rates for Prediction\")\n",
        "b3 = wordER(predictions20Data,targetData)\n",
        "print(b3)\n",
        "print(\"Difference Between Target vs Prediction using CER Metric\")\n",
        "print(round(b-b2,3))\n",
        "print(\"Difference Between Target vs Prediction using WER Metric\")\n",
        "print(round(b1-b3,3))\n",
        "\n",
        "print(\"##############################################################\\n###########################################################\\n#################################################\")\n"
      ]
    },
    {
      "cell_type": "markdown",
      "metadata": {
        "id": "1O3ZNmHZDlf1"
      },
      "source": [
        "### 30 % Error Data"
      ]
    },
    {
      "cell_type": "markdown",
      "metadata": {
        "id": "DOYlGiGGDpX_"
      },
      "source": [
        "\n",
        "\n",
        "> Target 30\n",
        "\n",
        "\n",
        "\n"
      ]
    },
    {
      "cell_type": "code",
      "execution_count": null,
      "metadata": {
        "id": "v2aIMk6zDw4k"
      },
      "outputs": [],
      "source": [
        "target_30_data = data['INPUT_30_ERROR'].tolist()\n",
        "target30Data = []\n",
        "\n",
        "for i in range(len(target_30_data)):\n",
        "\n",
        "  s = str(target_30_data[i])\n",
        "  target30Data.append(s)\n",
        "\n",
        "\n",
        "print(len(target30Data))"
      ]
    },
    {
      "cell_type": "markdown",
      "metadata": {
        "id": "GJTDTbezD-Yq"
      },
      "source": [
        "\n",
        "\n",
        "> Prediction 30 Extrations\n",
        "\n"
      ]
    },
    {
      "cell_type": "code",
      "execution_count": null,
      "metadata": {
        "id": "pqG56fnxEGMs"
      },
      "outputs": [],
      "source": [
        "predictions_30_data = data['MARIANMT_30_PREDICTIONS'].tolist()\n",
        "\n",
        "predictions30Data = []\n",
        "\n",
        "for i in range(len(predictions_30_data)):\n",
        "\n",
        "  s = str(predictions_30_data[i])\n",
        "  predictions30Data.append(s)\n",
        "\n",
        "\n",
        "print(len(predictions30Data))"
      ]
    },
    {
      "cell_type": "code",
      "execution_count": null,
      "metadata": {
        "id": "I_lZgrJTb3YW"
      },
      "outputs": [],
      "source": [
        "print(\"Character Error Rates for Target\")\n",
        "c = characterER(target30Data,targetData)\n",
        "print(c)\n",
        "print(\"Word Error Rates for Target\")\n",
        "c1 = wordER(target30Data,targetData)\n",
        "print(c1)\n",
        "print(\"-----------------------------------\")\n",
        "print(\"Character Error Rates for Preditction\")\n",
        "c2 = characterER(predictions30Data,targetData)\n",
        "print(\"Word Error Rates for Prediction\")\n",
        "c3 = wordER(predictions30Data,targetData)\n",
        "print(\"Difference Between Target vs Prediction using CER Metric\")\n",
        "print(round(c-c2,3))\n",
        "print(\"Difference Between Target vs Prediction using WER Metric\")\n",
        "print(round(c1-c3,3))\n",
        "\n",
        "print(\"##############################################################\\n###########################################################\\n#################################################\")\n",
        "\n"
      ]
    },
    {
      "cell_type": "markdown",
      "metadata": {
        "id": "QMwJkJQ_EiDk"
      },
      "source": [
        "### 40% Error Data"
      ]
    },
    {
      "cell_type": "markdown",
      "metadata": {
        "id": "wmVZjY0iM73E"
      },
      "source": [
        "\n",
        "\n",
        "> Target 40\n",
        "\n"
      ]
    },
    {
      "cell_type": "code",
      "execution_count": null,
      "metadata": {
        "id": "tnpS8H2_NBUL"
      },
      "outputs": [],
      "source": [
        "target_40_data = data['INPUT_40_ERROR'].tolist()\n",
        "target40Data = []\n",
        "\n",
        "for i in range(len(target_40_data)):\n",
        "\n",
        "  s = str(target_40_data[i])\n",
        "  target40Data.append(s)\n",
        "\n",
        "\n",
        "print(len(target40Data))"
      ]
    },
    {
      "cell_type": "markdown",
      "metadata": {
        "id": "GypwCLPbNOsu"
      },
      "source": [
        "\n",
        "\n",
        "> Prediction 40\n",
        "\n"
      ]
    },
    {
      "cell_type": "code",
      "execution_count": null,
      "metadata": {
        "id": "c4RSR_HSEmHL"
      },
      "outputs": [],
      "source": [
        "predictions_40_data = data['MARIANMT_40_PREDICTIONS'].tolist()\n",
        "\n",
        "predictions40Data = []\n",
        "\n",
        "for i in range(len(predictions_40_data)):\n",
        "\n",
        "  s = str(predictions_40_data[i])\n",
        "  predictions40Data.append(s)\n",
        "\n",
        "\n",
        "print(len(predictions40Data))"
      ]
    },
    {
      "cell_type": "markdown",
      "metadata": {
        "id": "cS8WCGJzb8e8"
      },
      "source": [
        "\n",
        "\n",
        "> Error Analysis\n"
      ]
    },
    {
      "cell_type": "code",
      "execution_count": null,
      "metadata": {
        "id": "BPsj-TJhb-nd"
      },
      "outputs": [],
      "source": [
        "print(\"Character Error Rates for Target\")\n",
        "d = characterER(target40Data,targetData)\n",
        "print(d)\n",
        "print(\"Word Error Rates for Target\")\n",
        "d1 = wordER(target40Data,targetData)\n",
        "print(d1)\n",
        "print(\"-----------------------------------\")\n",
        "print(\"Character Error Rates for Preditction\")\n",
        "d2 = characterER(predictions40Data,targetData)\n",
        "print(\"Word Error Rates for Prediction\")\n",
        "d3 = wordER(predictions40Data,targetData)\n",
        "print(\"Difference Between Target vs Prediction using CER Metric\")\n",
        "print(round(d-d2,3))\n",
        "print(\"Difference Between Target vs Prediction using WER Metric\")\n",
        "print(round(d1-d3,3))\n",
        "\n"
      ]
    },
    {
      "cell_type": "markdown",
      "metadata": {
        "id": "OQ3dT1k6Nb76"
      },
      "source": [
        "### 50% Error Data"
      ]
    },
    {
      "cell_type": "markdown",
      "metadata": {
        "id": "YnPueeY7NmPQ"
      },
      "source": [
        "\n",
        "\n",
        "> Target 50\n",
        "\n"
      ]
    },
    {
      "cell_type": "code",
      "execution_count": null,
      "metadata": {
        "id": "PN8UolVLNxan"
      },
      "outputs": [],
      "source": [
        "target_50_data = data['INPUT_50_ERROR'].tolist()\n",
        "target50Data = []\n",
        "\n",
        "for i in range(len(target_50_data)):\n",
        "\n",
        "  s = str(target_50_data[i])\n",
        "  target50Data.append(s)\n",
        "\n",
        "\n",
        "print(len(target50Data))"
      ]
    },
    {
      "cell_type": "markdown",
      "metadata": {
        "id": "Lyj__OHWN4er"
      },
      "source": [
        "\n",
        "\n",
        "> Prediction 50\n",
        "\n"
      ]
    },
    {
      "cell_type": "code",
      "execution_count": null,
      "metadata": {
        "id": "wb87QlcDN7io"
      },
      "outputs": [],
      "source": [
        "predictions_50_data = data['MARIANMT_50_PREDICTIONS'].tolist()\n",
        "\n",
        "predictions50Data = []\n",
        "\n",
        "for i in range(len(predictions_50_data)):\n",
        "\n",
        "  s = str(predictions_50_data[i])\n",
        "  predictions50Data.append(s)\n",
        "\n",
        "\n",
        "print(len(predictions50Data))"
      ]
    },
    {
      "cell_type": "markdown",
      "metadata": {
        "id": "5ktxZ_QXcJ10"
      },
      "source": [
        "\n",
        "\n",
        "> Error Analysis\n",
        "\n"
      ]
    },
    {
      "cell_type": "code",
      "execution_count": null,
      "metadata": {
        "id": "XF4G4_TscNnc"
      },
      "outputs": [],
      "source": [
        "print(\"Character Error Rates for Target\")\n",
        "e = characterER(target50Data,targetData)\n",
        "print(e)\n",
        "print(\"Word Error Rates for Target\")\n",
        "e1 = wordER(target50Data,targetData)\n",
        "print(e1)\n",
        "print(\"-----------------------------------\")\n",
        "print(\"Character Error Rates for Preditction\")\n",
        "e2 = characterER(predictions50Data,targetData)\n",
        "print(\"Word Error Rates for Prediction\")\n",
        "e3 = wordER(predictions50Data,targetData)\n",
        "print(\"Difference Between Target vs Prediction using CER Metric\")\n",
        "print(round(e-e2,3))\n",
        "print(\"Difference Between Target vs Prediction using WER Metric\")\n",
        "print(round(e1-e3,3))\n",
        "\n",
        "print(\"##############################################################\\n###########################################################\\n#################################################\")\n",
        "\n"
      ]
    },
    {
      "cell_type": "markdown",
      "metadata": {
        "id": "6lZPOnSgOEYX"
      },
      "source": [
        "### 60% Error Data"
      ]
    },
    {
      "cell_type": "markdown",
      "metadata": {
        "id": "x-fKtAwGOHWj"
      },
      "source": [
        "\n",
        "\n",
        "> Target 60\n",
        "\n"
      ]
    },
    {
      "cell_type": "code",
      "execution_count": null,
      "metadata": {
        "id": "cRgLklOQOJ5n"
      },
      "outputs": [],
      "source": [
        "target_60_data = data['INPUT_60_ERROR'].tolist()\n",
        "target60Data = []\n",
        "\n",
        "for i in range(len(target_60_data)):\n",
        "\n",
        "  s = str(target_60_data[i])\n",
        "  target60Data.append(s)\n",
        "\n",
        "\n",
        "print(len(target60Data))"
      ]
    },
    {
      "cell_type": "markdown",
      "metadata": {
        "id": "8p2LAid5OQf2"
      },
      "source": [
        "\n",
        "\n",
        "> Predcition 60\n",
        "\n"
      ]
    },
    {
      "cell_type": "code",
      "execution_count": null,
      "metadata": {
        "id": "vC5-NMtHOS11"
      },
      "outputs": [],
      "source": [
        "predictions_60_data = data['MARIANMT_60_PREDICTIONS'].tolist()\n",
        "\n",
        "predictions60Data = []\n",
        "\n",
        "for i in range(len(predictions_60_data)):\n",
        "\n",
        "  s = str(predictions_60_data[i])\n",
        "  predictions60Data.append(s)\n",
        "\n",
        "\n",
        "print(len(predictions60Data))"
      ]
    },
    {
      "cell_type": "markdown",
      "metadata": {
        "id": "PHtYNpdbchbF"
      },
      "source": [
        "\n",
        "\n",
        "> Error Analysis\n",
        "\n"
      ]
    },
    {
      "cell_type": "code",
      "execution_count": null,
      "metadata": {
        "id": "HPpU3AtDckFl"
      },
      "outputs": [],
      "source": [
        "print(\"Character Error Rates for Target\")\n",
        "f = characterER(target60Data,targetData)\n",
        "print(f)\n",
        "print(\"Word Error Rates for Target\")\n",
        "f1 = wordER(target60Data,targetData)\n",
        "print(f1)\n",
        "print(\"\\n-----------------------------------\\n\")\n",
        "print(\"Character Error Rates for Preditction\")\n",
        "f2 = characterER(predictions60Data,targetData)\n",
        "print(f2)\n",
        "print(\"Word Error Rates for Prediction\")\n",
        "f3 = wordER(predictions60Data,targetData)\n",
        "print(f3)\n",
        "print(\"\\n-----------------------------------\\n\")\n",
        "print(\"Difference Between Target vs Prediction using CER Metric\")\n",
        "print(round(f-f2,3))\n",
        "print(\"Difference Between Target vs Prediction using WER Metric\")\n",
        "print(round(f1-f3,3))\n",
        "\n"
      ]
    },
    {
      "cell_type": "markdown",
      "metadata": {
        "id": "deGvezt-wI96"
      },
      "source": [
        "### Final Interpretation"
      ]
    },
    {
      "cell_type": "code",
      "execution_count": null,
      "metadata": {
        "id": "LXRbjCLKwLwB"
      },
      "outputs": [],
      "source": [
        "values = [['Naturl-Error-Input', m, m1 ], ['Naturl-Error-Prediction', m2, m3], ['Natural CER & WER Difference',round(m-m2,3), round(m1-m3,3)],\n",
        "          ['2%-Error-Input', m4, m5 ], ['2%-Error-Prediction', m6, m7], ['2% CER & WER Difference',round(m4-m6,3), round(m5-m7,3)],\n",
        "          ['4%-Error-Input', m8, m9 ], ['4%-Error-Prediction', m10, m11], ['4% CER & WER Difference',round(m8-m10,3), round(m9-m11,3)],\n",
        "          ['6%-Error-Input', m12, m13 ], ['6%-Error-Prediction', m14, m15], ['6% CER & WER Difference',round(m12-m14,3), round(m13-m15,3)],\n",
        "          ['8%-Error-Input', m16, m17 ], ['8%-Error-Prediction', m18, m19], ['8% CER & WER Difference',round(m16-m18,3), round(m17-m19,3)],\n",
        "          ['10%-Error-Input', a, a1 ], ['10%-Error-Prediction', a2, a3], ['10% CER & WER Difference',round(a2-a,3), round(a3-a1,3)],\n",
        "          ['20%-Error-Input', b, b1 ], ['20%-Error-Prediction', b2, b3], ['20% CER & WER Difference',round(b2-b,3), round(b3-b1,3)],\n",
        "          ['30%-Error-Input', c, c1 ], ['30%-Error-Prediction', c2, c3], ['30% CER & WER Difference',round(c2-c,3), round(c3-c1,3)],\n",
        "          ['40%-Error-Input', d, d1 ], ['40%-Error-Prediction', d2, d3], ['40% CER & WER Difference',round(d2-d,3), round(d3-d1,3)],\n",
        "          ['50%-Error-Input', e, e1 ], ['50%-Error-Prediction', e2, e3], ['50% CER & WER Difference',round(e2-e,3), round(e3-e1,3)],\n",
        "          ['60%-Error-Input', f, f1 ], ['60%-Error-Prediction', f2, f3], ['60% CER & WER Difference',round(f2-f,3), round(f3-f1,3)],\n",
        "        ]\n",
        "df = pd.DataFrame(values, columns=['Parameter', 'CER', 'WER'])\n",
        "df"
      ]
    },
    {
      "cell_type": "markdown",
      "metadata": {
        "id": "vnn_-zfgrek2"
      },
      "source": [
        "# BART"
      ]
    },
    {
      "cell_type": "markdown",
      "metadata": {
        "id": "E12dv4DirUrh"
      },
      "source": [
        "### Pre-Train v/s Transfer Learning"
      ]
    },
    {
      "cell_type": "code",
      "execution_count": null,
      "metadata": {
        "id": "gfHK1BoMrYax"
      },
      "outputs": [],
      "source": [
        "bartTargetData = dfBART['target_new'].tolist()\n",
        "bartEpoch1Data = dfBART['BART'].tolist()\n",
        "bartPreTrainData = dfBART['predictions_input_Bart'].tolist()\n",
        "bartEpoch2Data = dfBART1['predictions_input_Bart'].tolist()"
      ]
    },
    {
      "cell_type": "markdown",
      "metadata": {
        "id": "tyMk65S_uPiS"
      },
      "source": [
        "\n",
        "\n",
        "> Error Rates for Pre-Train vs Target\n",
        "\n"
      ]
    },
    {
      "cell_type": "code",
      "execution_count": null,
      "metadata": {
        "id": "r9PAcvt3uWB1"
      },
      "outputs": [],
      "source": [
        "print(\"Character Error Rates\")\n",
        "ptc = characterER(bartPreTrainData,bartTargetData)\n",
        "print(\"Word Error Rates\")\n",
        "ptw = wordER(bartPreTrainData,bartTargetData)"
      ]
    },
    {
      "cell_type": "markdown",
      "metadata": {
        "id": "jPTrbpnJtxUz"
      },
      "source": [
        "\n",
        "\n",
        "> Error Rates for Epoch 1 vs Target\n",
        "\n"
      ]
    },
    {
      "cell_type": "code",
      "execution_count": null,
      "metadata": {
        "id": "3EsxhWRzt40o"
      },
      "outputs": [],
      "source": [
        "print(\"Character Error Rates\")\n",
        "onec = characterER(bartEpoch1Data,bartTargetData)\n",
        "print(onec)\n",
        "print(\"Word Error Rates\")\n",
        "onew = wordER(bartEpoch1Data,bartTargetData)\n",
        "print(onew)"
      ]
    },
    {
      "cell_type": "markdown",
      "metadata": {
        "id": "QSRxllWXuGnZ"
      },
      "source": [
        "\n",
        "\n",
        "> Error Rates for Epoch 2 vs Target\n",
        "\n"
      ]
    },
    {
      "cell_type": "code",
      "execution_count": null,
      "metadata": {
        "id": "6S0oyxXJuKae"
      },
      "outputs": [],
      "source": [
        "print(\"Character Error Rates\")\n",
        "twoc = characterER(bartEpoch2Data,bartTargetData)\n",
        "print(\"Word Error Rates\")\n",
        "twow = wordER(bartEpoch2Data,bartTargetData)"
      ]
    },
    {
      "cell_type": "markdown",
      "metadata": {
        "id": "c5U7mnYgu8YD"
      },
      "source": [
        "\n",
        "\n",
        "> Analysis\n",
        "\n"
      ]
    },
    {
      "cell_type": "code",
      "execution_count": null,
      "metadata": {
        "id": "C8sfoMr1vBC3"
      },
      "outputs": [],
      "source": [
        "\n",
        "values = [\n",
        "    [\"Pre Train\", ptc, ptw ],\n",
        "    [\"Epoch-1\", onec, onew],\n",
        "    [\"Improvement from Pre-Train\", ptc-onec, ptw-onew],\n",
        "    [\"Epoch-2\", twoc, twow],\n",
        "    [\"Improvement from Pre-Train\", ptc-twoc, ptw-twow],\n",
        "    [\"Improvement from First Epoch\", onec-twoc, onew-twow]\n",
        "]\n",
        "df = pd.DataFrame(values, columns=['Parameter', 'CER', 'WER'])\n",
        "df"
      ]
    },
    {
      "cell_type": "markdown",
      "metadata": {
        "id": "n9x-rqYwnfpL"
      },
      "source": [
        "### Natural Error"
      ]
    },
    {
      "cell_type": "markdown",
      "metadata": {
        "id": "U7tPikq6W-WO"
      },
      "source": [
        "\n",
        "\n",
        "> Prediction BART  [Note: Target can be extrwcted from MarianMT STUFF ]\n",
        "\n"
      ]
    },
    {
      "cell_type": "code",
      "execution_count": null,
      "metadata": {
        "id": "pD00_vGIoWol"
      },
      "outputs": [],
      "source": [
        "predictions_natural_dataB = data['BART_ NATURAL_PREDICTIONS'].tolist()\n",
        "\n",
        "predictionsNaturalDataB = []\n",
        "\n",
        "for i in range(len(predictions_natural_dataB)):\n",
        "\n",
        "  s = str(predictions_natural_dataB[i])\n",
        "  predictionsNaturalDataB.append(s)\n",
        "\n",
        "\n",
        "print(len(predictionsNaturalDataB))"
      ]
    },
    {
      "cell_type": "markdown",
      "metadata": {
        "id": "YDEAdVWsXYFg"
      },
      "source": [
        "\n",
        "\n",
        "> Analysis\n",
        "\n"
      ]
    },
    {
      "cell_type": "code",
      "execution_count": null,
      "metadata": {
        "id": "JyMxdV3FXa5t"
      },
      "outputs": [],
      "source": [
        "print(\"Character Error Rates for Target\")\n",
        "t= characterER(naturalData,targetData)\n",
        "print(t)\n",
        "print(\"Word Error Rates for Target\")\n",
        "t1 = wordER(naturalData,targetData)\n",
        "print(t1)\n",
        "print(\"\\n-----------------------------------\\n\")\n",
        "print(\"Character Error Rates for Preditction\")\n",
        "t2 = characterER(predictionsNaturalDataB,targetData)\n",
        "print(t2)\n",
        "print(\"Word Error Rates for Prediction\")\n",
        "t3 = wordER(predictionsNaturalDataB,targetData)\n",
        "print(t3)\n",
        "print(\"\\n-----------------------------------\\n\")\n",
        "print(\"Difference Between Target vs Prediction using CER Metric\")\n",
        "print(round(t-t2,3))\n",
        "print(\"Difference Between Target vs Prediction using WER Metric\")\n",
        "print(round(t1-t3,3))"
      ]
    },
    {
      "cell_type": "markdown",
      "metadata": {
        "id": "BJlMS9NDoHOY"
      },
      "source": [
        "### 2% Error"
      ]
    },
    {
      "cell_type": "code",
      "execution_count": null,
      "metadata": {
        "id": "gxMcGEkfoXSL"
      },
      "outputs": [],
      "source": [
        "predictions_two_dataB= data['BART_2_PREDICTIONS'].tolist()\n",
        "\n",
        "predictionsTwoDataB = []\n",
        "\n",
        "for i in range(len(predictions_two_dataB)):\n",
        "\n",
        "  s = str(predictions_two_dataB[i])\n",
        "  predictionsTwoDataB.append(s)\n",
        "\n",
        "\n",
        "print(len(predictionsTwoDataB))"
      ]
    },
    {
      "cell_type": "markdown",
      "metadata": {
        "id": "-bjHrPcfYIZI"
      },
      "source": [
        "\n",
        "\n",
        "> Analysis\n",
        "\n"
      ]
    },
    {
      "cell_type": "code",
      "execution_count": null,
      "metadata": {
        "id": "_zo43-BRYKXy"
      },
      "outputs": [],
      "source": [
        "print(\"Character Error Rates for Target\")\n",
        "t4 = characterER(twoData,targetData)\n",
        "print(t4)\n",
        "print(\"Word Error Rates for Target\")\n",
        "t5 = wordER(twoData,targetData)\n",
        "print(t5)\n",
        "print(\"\\n-----------------------------------\\n\")\n",
        "print(\"Character Error Rates for Preditction\")\n",
        "t6 = characterER(predictionsTwoDataB,targetData)\n",
        "print(t6)\n",
        "print(\"Word Error Rates for Prediction\")\n",
        "t7 = wordER(predictionsTwoDataB,targetData)\n",
        "print(t7)\n",
        "print(\"\\n-----------------------------------\\n\")\n",
        "print(\"Difference Between Target vs Prediction using CER Metric\")\n",
        "print(round(t4-t6,3))\n",
        "print(\"Difference Between Target vs Prediction using WER Metric\")\n",
        "print(round(t5-t7,3))"
      ]
    },
    {
      "cell_type": "markdown",
      "metadata": {
        "id": "FRhpaePloLzM"
      },
      "source": [
        "### 4% Error"
      ]
    },
    {
      "cell_type": "code",
      "execution_count": null,
      "metadata": {
        "id": "9QHkGHZhoYOD"
      },
      "outputs": [],
      "source": [
        "predictions_four_dataB = data['BART_4_PREDICTIONS'].tolist()\n",
        "\n",
        "predictionsFourDataB = []\n",
        "\n",
        "for i in range(len(predictions_four_dataB)):\n",
        "\n",
        "  s = str(predictions_four_dataB[i])\n",
        "  predictionsFourDataB.append(s)\n",
        "\n",
        "\n",
        "print(len(predictionsFourDataB))"
      ]
    },
    {
      "cell_type": "markdown",
      "metadata": {
        "id": "rRfS7ErfYjSI"
      },
      "source": [
        "\n",
        "\n",
        "> Analysis\n",
        "\n"
      ]
    },
    {
      "cell_type": "code",
      "execution_count": null,
      "metadata": {
        "id": "9DKOW1mHYmYk"
      },
      "outputs": [],
      "source": [
        "print(\"Character Error Rates for Target\")\n",
        "t8 = characterER(fourData,targetData)\n",
        "print(t8)\n",
        "print(\"Word Error Rates for Target\")\n",
        "t9 = wordER(fourData,targetData)\n",
        "print(t9)\n",
        "print(\"\\n-----------------------------------\\n\")\n",
        "print(\"Character Error Rates for Preditction\")\n",
        "t10 = characterER(predictionsFourDataB,targetData)\n",
        "print(t10)\n",
        "print(\"Word Error Rates for Prediction\")\n",
        "t11 = wordER(predictionsFourDataB,targetData)\n",
        "print(t11)\n",
        "print(\"\\n-----------------------------------\\n\")\n",
        "print(\"Difference Between Target vs Prediction using CER Metric\")\n",
        "print(round(t8-t10,3))\n",
        "print(\"Difference Between Target vs Prediction using WER Metric\")\n",
        "print(round(t9-t11,3))"
      ]
    },
    {
      "cell_type": "markdown",
      "metadata": {
        "id": "y0v0hL6ZoNkm"
      },
      "source": [
        "### 6% Error"
      ]
    },
    {
      "cell_type": "code",
      "execution_count": null,
      "metadata": {
        "id": "7gDGrL6YoY0i"
      },
      "outputs": [],
      "source": [
        "predictions_six_dataB = data['BART_6_PREDICTIONS'].tolist()\n",
        "\n",
        "predictionsSixDataB = []\n",
        "\n",
        "for i in range(len(predictions_six_dataB)):\n",
        "\n",
        "  s = str(predictions_six_dataB[i])\n",
        "  predictionsSixDataB.append(s)\n",
        "\n",
        "\n",
        "print(len(predictionsSixDataB))"
      ]
    },
    {
      "cell_type": "markdown",
      "metadata": {
        "id": "5DHY1b87Y_Jy"
      },
      "source": [
        "\n",
        "\n",
        "> Analysis\n"
      ]
    },
    {
      "cell_type": "code",
      "execution_count": null,
      "metadata": {
        "id": "oF5ciAQHZBX3"
      },
      "outputs": [],
      "source": [
        "print(\"Character Error Rates for Target\")\n",
        "t12 = characterER(sixData,targetData)\n",
        "print(t12)\n",
        "print(\"Word Error Rates for Target\")\n",
        "t13 = wordER(sixData,targetData)\n",
        "print(t13)\n",
        "print(\"\\n-----------------------------------\\n\")\n",
        "print(\"Character Error Rates for Preditction\")\n",
        "t14 = characterER(predictionsSixDataB,targetData)\n",
        "print(t14)\n",
        "print(\"Word Error Rates for Prediction\")\n",
        "t15 = wordER(predictionsSixDataB,targetData)\n",
        "print(t15)\n",
        "print(\"\\n-----------------------------------\\n\")\n",
        "print(\"Difference Between Target vs Prediction using CER Metric\")\n",
        "print(round(t12-t14,3))\n",
        "print(\"Difference Between Target vs Prediction using WER Metric\")\n",
        "print(round(t13-t15,3))"
      ]
    },
    {
      "cell_type": "markdown",
      "metadata": {
        "id": "EVZZSIwYoPMU"
      },
      "source": [
        "### 8% Error"
      ]
    },
    {
      "cell_type": "code",
      "execution_count": null,
      "metadata": {
        "id": "Y4R-JRNLoZet"
      },
      "outputs": [],
      "source": [
        "predictions_eigth_dataB = data['BART_8_PREDICTIONS'].tolist()\n",
        "\n",
        "predictionsEightDataB = []\n",
        "\n",
        "for i in range(len(predictions_eigth_dataB)):\n",
        "\n",
        "  s = str(predictions_eigth_dataB[i])\n",
        "  predictionsEightDataB.append(s)\n",
        "\n",
        "\n",
        "print(len(predictionsEightDataB))"
      ]
    },
    {
      "cell_type": "markdown",
      "metadata": {
        "id": "gkeQbZu6Zf-6"
      },
      "source": [
        "\n",
        "\n",
        "> Analysis\n",
        "\n"
      ]
    },
    {
      "cell_type": "code",
      "execution_count": null,
      "metadata": {
        "id": "LwixEEf9ZisZ"
      },
      "outputs": [],
      "source": [
        "print(\"Character Error Rates for Target\")\n",
        "t16 = characterER(eightData,targetData)\n",
        "print(t16)\n",
        "print(\"Word Error Rates for Target\")\n",
        "t17 = wordER(eightData,targetData)\n",
        "print(t17)\n",
        "print(\"\\n-----------------------------------\\n\")\n",
        "print(\"Character Error Rates for Preditction\")\n",
        "t18 = characterER(predictionsEightDataB,targetData)\n",
        "print(t18)\n",
        "print(\"Word Error Rates for Prediction\")\n",
        "t19 = wordER(predictionsEightDataB,targetData)\n",
        "print(t19)\n",
        "print(\"\\n-----------------------------------\\n\")\n",
        "print(\"Difference Between Target vs Prediction using CER Metric\")\n",
        "print(round(t16-t18,3))\n",
        "print(\"Difference Between Target vs Prediction using WER Metric\")\n",
        "print(round(t17-t19,3))"
      ]
    },
    {
      "cell_type": "markdown",
      "metadata": {
        "id": "jyvYdHbxoRmB"
      },
      "source": [
        "### 10% Error"
      ]
    },
    {
      "cell_type": "code",
      "execution_count": null,
      "metadata": {
        "id": "iuymSK8RoaUO"
      },
      "outputs": [],
      "source": [
        "predictions_10_dataB = data['BART_10_PREDICTIONS'].tolist()\n",
        "\n",
        "predictions10DataB = []\n",
        "\n",
        "for i in range(len(predictions_10_dataB)):\n",
        "\n",
        "  s = str(predictions_10_dataB[i])\n",
        "  predictions10DataB.append(s)\n",
        "\n",
        "\n",
        "print(len(predictions10DataB))"
      ]
    },
    {
      "cell_type": "markdown",
      "metadata": {
        "id": "oZw1MYNxaCBK"
      },
      "source": [
        "\n",
        "\n",
        "> Analysis\n"
      ]
    },
    {
      "cell_type": "code",
      "execution_count": null,
      "metadata": {
        "id": "GVy_JjqsaEdw"
      },
      "outputs": [],
      "source": [
        "print(\"Character Error Rates for Target\")\n",
        "AA = characterER(target10Data,targetData)\n",
        "print(AA)\n",
        "print(\"Word Error Rates for Target\")\n",
        "AA1 = wordER(target10Data,targetData)\n",
        "print(AA1)\n",
        "print(\"-----------------------------------\")\n",
        "print(\"Character Error Rates for Preditction\")\n",
        "AA2 = characterER(predictions10DataB,targetData)\n",
        "print(AA2)\n",
        "print(\"Word Error Rates for Prediction\")\n",
        "AA3 = wordER(predictions10DataB,targetData)\n",
        "print(AA3)\n",
        "print(\"Difference Between Target vs Prediction using CER Metric\")\n",
        "print(round(AA-AA2,3))\n",
        "print(\"Difference Between Target vs Prediction using WER Metric\")\n",
        "print(round(AA1-AA3,3))"
      ]
    },
    {
      "cell_type": "markdown",
      "metadata": {
        "id": "poTvuuZ6sewu"
      },
      "source": [
        "### 20% Error Data"
      ]
    },
    {
      "cell_type": "markdown",
      "metadata": {
        "id": "6rmnpnkcskO7"
      },
      "source": [
        "\n",
        "\n",
        "> Prediction 20 Extraction\n",
        "\n"
      ]
    },
    {
      "cell_type": "code",
      "execution_count": null,
      "metadata": {
        "id": "IJBJRHg6siCi"
      },
      "outputs": [],
      "source": [
        "predictions_20_bdata = data['BART_20_PREDICTIONS'].tolist()\n",
        "\n",
        "predictions20BData = []\n",
        "\n",
        "for i in range(len(predictions_20_bdata)):\n",
        "\n",
        "  s = str(predictions_20_bdata[i])\n",
        "  predictions20BData.append(s)\n",
        "\n",
        "\n",
        "print(len(predictions20BData))"
      ]
    },
    {
      "cell_type": "markdown",
      "metadata": {
        "id": "em5rT_Y2s2tr"
      },
      "source": [
        "\n",
        "\n",
        "> Analysis\n"
      ]
    },
    {
      "cell_type": "code",
      "execution_count": null,
      "metadata": {
        "id": "nyuPj0JIs861"
      },
      "outputs": [],
      "source": [
        "print(\"Character Error Rates for Target\")\n",
        "BB = characterER(target20Data,targetData)\n",
        "print(BB)\n",
        "print(\"Word Error Rates for Target\")\n",
        "BB1 = wordER(target20Data,targetData)\n",
        "print(BB1)\n",
        "print(\"\\n-----------------------------------\\n\")\n",
        "print(\"Character Error Rates for Preditction\")\n",
        "BB2 = characterER(predictions20BData,targetData)\n",
        "print(BB2)\n",
        "print(\"Word Error Rates for Prediction\")\n",
        "BB3 = wordER(predictions20BData,targetData)\n",
        "print(BB3)\n",
        "print(\"\\n-----------------------------------\\n\")\n",
        "print(\"Difference Between Target vs Prediction using CER Metric\")\n",
        "print(round(BB2-BB,3))\n",
        "print(\"Difference Between Target vs Prediction using WER Metric\")\n",
        "print(round(BB3-BB1,3))"
      ]
    },
    {
      "cell_type": "markdown",
      "metadata": {
        "id": "wm2eG0rxs9S-"
      },
      "source": [
        "### 30% Error Data"
      ]
    },
    {
      "cell_type": "markdown",
      "metadata": {
        "id": "l2pLhQTvs_M3"
      },
      "source": [
        "\n",
        "\n",
        "> Prediction 30 Extraction\n",
        "\n"
      ]
    },
    {
      "cell_type": "code",
      "execution_count": null,
      "metadata": {
        "id": "YzIk8gmKtD1F"
      },
      "outputs": [],
      "source": [
        "predictions_30_bdata = data['BART_30_PREDICTIONS'].tolist()\n",
        "\n",
        "predictions30BData = []\n",
        "\n",
        "for i in range(len(predictions_30_bdata)):\n",
        "\n",
        "  s = str(predictions_30_bdata[i])\n",
        "  predictions30BData.append(s)\n",
        "\n",
        "\n",
        "print(len(predictions30BData))"
      ]
    },
    {
      "cell_type": "markdown",
      "metadata": {
        "id": "-9M9nRhFtMEK"
      },
      "source": [
        "\n",
        "\n",
        "> Analsysis\n"
      ]
    },
    {
      "cell_type": "code",
      "execution_count": null,
      "metadata": {
        "id": "zXFrV4jWtOpw"
      },
      "outputs": [],
      "source": [
        "print(\"Character Error Rates for Target\")\n",
        "CC = characterER(target30Data,targetData)\n",
        "print(CC)\n",
        "print(\"Word Error Rates for Target\")\n",
        "CC1 = wordER(target30Data,targetData)\n",
        "print(CC1)\n",
        "print(\"\\n-----------------------------------\\n\")\n",
        "print(\"Character Error Rates for Preditction\")\n",
        "CC2 = characterER(predictions30BData,targetData)\n",
        "print(CC2)\n",
        "print(\"Word Error Rates for Prediction\")\n",
        "CC3 = wordER(predictions30BData,targetData)\n",
        "print(CC3)\n",
        "print(\"\\n-----------------------------------\\n\")\n",
        "print(\"Difference Between Target vs Prediction using CER Metric\")\n",
        "print(round(CC2-CC,3))\n",
        "print(\"Difference Between Target vs Prediction using WER Metric\")\n",
        "print(round(CC3-CC1,3))"
      ]
    },
    {
      "cell_type": "markdown",
      "metadata": {
        "id": "NyewzfHptO-D"
      },
      "source": [
        "### 40% Error Data"
      ]
    },
    {
      "cell_type": "markdown",
      "metadata": {
        "id": "o6OTMQ05tRCG"
      },
      "source": [
        "\n",
        "\n",
        "> Prediction 40 Extraction\n",
        "\n"
      ]
    },
    {
      "cell_type": "code",
      "execution_count": null,
      "metadata": {
        "id": "SrIQqN5utUEd"
      },
      "outputs": [],
      "source": [
        "predictions_40_bdata = data['BART_40_PREDICTIONS'].tolist()\n",
        "\n",
        "predictions40BData = []\n",
        "\n",
        "for i in range(len(predictions_40_bdata)):\n",
        "\n",
        "  s = str(predictions_40_bdata[i])\n",
        "  predictions40BData.append(s)\n",
        "\n",
        "\n",
        "print(len(predictions40BData))"
      ]
    },
    {
      "cell_type": "markdown",
      "metadata": {
        "id": "ogUygzuFtaRG"
      },
      "source": []
    },
    {
      "cell_type": "markdown",
      "metadata": {
        "id": "I5xDtcpItaio"
      },
      "source": [
        "\n",
        "\n",
        "> Analysis\n"
      ]
    },
    {
      "cell_type": "code",
      "execution_count": null,
      "metadata": {
        "id": "2qnqYXxatdGT"
      },
      "outputs": [],
      "source": [
        "print(\"Character Error Rates for Target\")\n",
        "DD = characterER(target40Data,targetData)\n",
        "print(DD)\n",
        "print(\"Word Error Rates for Target\")\n",
        "DD1 = wordER(target40Data,targetData)\n",
        "print(DD1)\n",
        "print(\"\\n-----------------------------------\\n\")\n",
        "print(\"Character Error Rates for Preditction\")\n",
        "DD2 = characterER(predictions40BData,targetData)\n",
        "print(DD2)\n",
        "print(\"Word Error Rates for Prediction\")\n",
        "DD3 = wordER(predictions40BData,targetData)\n",
        "print(DD3)\n",
        "print(\"\\n-----------------------------------\\n\")\n",
        "print(\"Difference Between Target vs Prediction using CER Metric\")\n",
        "print(round(DD2-DD,3))\n",
        "print(\"Difference Between Target vs Prediction using WER Metric\")\n",
        "print(round(DD3-DD1,3))"
      ]
    },
    {
      "cell_type": "markdown",
      "metadata": {
        "id": "mxlc9CTctdRq"
      },
      "source": [
        "### 50% Error Data"
      ]
    },
    {
      "cell_type": "markdown",
      "metadata": {
        "id": "rp-dqF8ptgxz"
      },
      "source": [
        "\n",
        "\n",
        "> Prediction 50 Extraction\n",
        "\n"
      ]
    },
    {
      "cell_type": "code",
      "execution_count": null,
      "metadata": {
        "id": "K_xWzf0ltgGI"
      },
      "outputs": [],
      "source": [
        "predictions_50_bdata = data['BART_50_PREDICTIONS'].tolist()\n",
        "\n",
        "predictions50BData = []\n",
        "\n",
        "for i in range(len(predictions_50_bdata)):\n",
        "\n",
        "  s = str(predictions_50_bdata[i])\n",
        "  predictions50BData.append(s)\n",
        "\n",
        "\n",
        "print(len(predictions50BData))"
      ]
    },
    {
      "cell_type": "markdown",
      "metadata": {
        "id": "pZ4DDDlztunm"
      },
      "source": [
        "\n",
        "\n",
        "> Analysis\n",
        "\n"
      ]
    },
    {
      "cell_type": "code",
      "execution_count": null,
      "metadata": {
        "id": "pisrjh_StwdP"
      },
      "outputs": [],
      "source": [
        "print(\"Character Error Rates for Target\")\n",
        "EE = characterER(target50Data,targetData)\n",
        "print(EE)\n",
        "print(\"Word Error Rates for Target\")\n",
        "EE1 = wordER(target50Data,targetData)\n",
        "print(EE1)\n",
        "print(\"\\n-----------------------------------\\n\")\n",
        "print(\"Character Error Rates for Preditction\")\n",
        "EE2 = characterER(predictions50BData,targetData)\n",
        "print(EE2)\n",
        "print(\"Word Error Rates for Prediction\")\n",
        "EE3 = wordER(predictions50BData,targetData)\n",
        "print(EE3)\n",
        "print(\"\\n-----------------------------------\\n\")\n",
        "print(\"Difference Between Target vs Prediction using CER Metric\")\n",
        "print(round(EE2-EE,3))\n",
        "print(\"Difference Between Target vs Prediction using WER Metric\")\n",
        "print(round(EE3-EE1,3))"
      ]
    },
    {
      "cell_type": "markdown",
      "metadata": {
        "id": "ybwu-RXXtwxz"
      },
      "source": [
        "### 60% Error Data"
      ]
    },
    {
      "cell_type": "markdown",
      "metadata": {
        "id": "4w8I-9LCtzi8"
      },
      "source": [
        "\n",
        "\n",
        "> Prediction 60 Extraction\n",
        "\n"
      ]
    },
    {
      "cell_type": "code",
      "execution_count": null,
      "metadata": {
        "id": "pE1TIjpxt24k"
      },
      "outputs": [],
      "source": [
        "predictions_60_bdata = data['BART_60_PREDICTIONS'].tolist()\n",
        "\n",
        "predictions60BData = []\n",
        "\n",
        "for i in range(len(predictions_60_bdata)):\n",
        "\n",
        "  s = str(predictions_60_bdata[i])\n",
        "  predictions60BData.append(s)\n",
        "\n",
        "\n",
        "print(len(predictions60BData))"
      ]
    },
    {
      "cell_type": "markdown",
      "metadata": {
        "id": "CEyqbTbpt_qL"
      },
      "source": [
        "\n",
        "\n",
        "> Analysis\n",
        "\n"
      ]
    },
    {
      "cell_type": "code",
      "execution_count": null,
      "metadata": {
        "id": "9Ql90YA8uCAb"
      },
      "outputs": [],
      "source": [
        "print(\"Character Error Rates for Target\")\n",
        "FF = characterER(target60Data,targetData)\n",
        "print(FF)\n",
        "print(\"Word Error Rates for Target\")\n",
        "FF1 = wordER(target60Data,targetData)\n",
        "print(FF1)\n",
        "print(\"\\n-----------------------------------\\n\")\n",
        "print(\"Character Error Rates for Preditction\")\n",
        "FF2 = characterER(predictions60BData,targetData)\n",
        "print(FF2)\n",
        "print(\"Word Error Rates for Prediction\")\n",
        "FF3 = wordER(predictions60BData,targetData)\n",
        "print(FF3)\n",
        "print(\"\\n-----------------------------------\\n\")\n",
        "print(\"Difference Between Target vs Prediction using CER Metric\")\n",
        "print(round(FF2-FF,3))\n",
        "print(\"Difference Between Target vs Prediction using WER Metric\")\n",
        "print(round(FF3-FF1,3))"
      ]
    },
    {
      "cell_type": "markdown",
      "metadata": {
        "id": "ura_6ebwwnPV"
      },
      "source": [
        "### FINAL INTERPREATION"
      ]
    },
    {
      "cell_type": "code",
      "execution_count": null,
      "metadata": {
        "id": "ChM_ZK49wuUr"
      },
      "outputs": [],
      "source": [
        "values1 = [['Naturl-Error-Input', t, t1 ], ['Naturl-Error-Prediction', t2, t3], ['Natural CER & WER Difference',round(t-t2,3), round(t1-t3,3)],\n",
        "          ['2-Error-Input', t4, t5 ], ['2%-Error-Prediction', t6, t7], ['2% CER & WER Difference',round(t4-t6,3), round(t5-t7,3)],\n",
        "          ['4-Error-Input', t8, t9 ], ['4%-Error-Prediction', t10, t11], ['4% CER & WER Difference',round(t8-t10,3), round(t9-t11,3)],\n",
        "          ['6-Error-Input', t12, t13 ], ['6%-Error-Prediction', t14, t15], ['6% CER & WER Difference',round(t12-t14,3), round(t13-t15,3)],\n",
        "          ['8-Error-Input', t16, t17 ], ['8%-Error-Prediction', t18, t19], ['8% CER & WER Difference',round(t16-t18,3), round(t17-t19,3)],\n",
        "          ['10%-Error-Input', AA, AA1 ], ['10%-Error-Prediction', AA2, AA3], ['10% CER & WER Difference',round(AA2-AA,3), round(AA3-AA1,3)],\n",
        "          ['20%-Error-Input', BB, BB1 ], ['20%-Error-Prediction', BB2, BB3], ['20% CER & WER Difference',round(BB2-BB,3), round(BB3-BB1,3)],\n",
        "          ['30%-Error-Input', CC, CC1 ], ['30%-Error-Prediction', CC2, CC3], ['30% CER & WER Difference',round(CC2-CC,3), round(CC3-CC1,3)],\n",
        "          ['40%-Error-Input', DD, DD1 ], ['40%-Error-Prediction', DD2, DD3], ['40% CER & WER Difference',round(DD2-DD,3), round(DD3-DD1,3)],\n",
        "          ['50%-Error-Input', EE, EE1 ], ['50%-Error-Prediction', EE2, EE3], ['50% CER & WER Difference',round(EE2-EE,3), round(EE3-EE1,3)],\n",
        "          ['60%-Error-Input', FF, FF1 ], ['60%-Error-Prediction', FF2, FF3], ['60% CER & WER Difference',round(FF2-FF,3), round(FF3-FF1,3)],\n",
        "        ]\n",
        "df90 = pd.DataFrame(values1, columns=['Parameter', 'CER', 'WER'])\n",
        "df90"
      ]
    },
    {
      "cell_type": "markdown",
      "metadata": {
        "id": "u_v9AnWlhDaY"
      },
      "source": [
        "# BART - PRETRAIN"
      ]
    },
    {
      "cell_type": "code",
      "execution_count": null,
      "metadata": {
        "id": "jI2npkQ_hGv5"
      },
      "outputs": [],
      "source": [
        "predictionsPTBART = data['PT_BART'].tolist()\n",
        "\n",
        "predictionsPT_BART = []\n",
        "\n",
        "for i in range(len(predictionsPTBART)):\n",
        "\n",
        "  s = str(predictionsPTBART[i])\n",
        "  predictionsPT_BART.append(s)\n",
        "\n",
        "\n",
        "print(len(predictionsPT_BART))"
      ]
    },
    {
      "cell_type": "code",
      "execution_count": null,
      "metadata": {
        "id": "iCFS9pOch2Gf"
      },
      "outputs": [],
      "source": [
        "predictionsPT_BART_NATURAL_PREDICTIONS = data['PT_BART_NATURAL_PREDICTIONS'].tolist()\n",
        "\n",
        "predictionsPTBARTNATURALPREDICTIONS = []\n",
        "\n",
        "for i in range(len(predictionsPT_BART_NATURAL_PREDICTIONS)):\n",
        "\n",
        "  s = str(predictionsPT_BART_NATURAL_PREDICTIONS[i])\n",
        "  predictionsPTBARTNATURALPREDICTIONS.append(s)\n",
        "\n",
        "\n",
        "print(len(predictionsPTBARTNATURALPREDICTIONS))"
      ]
    },
    {
      "cell_type": "code",
      "execution_count": null,
      "metadata": {
        "colab": {
          "background_save": true
        },
        "id": "SchkzG4Qrp9J",
        "outputId": "4b3fbb95-7440-47d5-cfe0-ea70aa90a604"
      },
      "outputs": [
        {
          "name": "stdout",
          "output_type": "stream",
          "text": [
            "25738\n"
          ]
        }
      ],
      "source": [
        "predictionsPT_BART_0_PREDICTIONS = data['PT_BART_0_PREDICTIONS'].tolist()\n",
        "\n",
        "predictionsPTBART0PREDICTIONS = []\n",
        "\n",
        "for i in range(len(predictionsPT_BART_0_PREDICTIONS)):\n",
        "\n",
        "  s = str(predictionsPT_BART_0_PREDICTIONS[i])\n",
        "  predictionsPTBART0PREDICTIONS.append(s)\n",
        "\n",
        "\n",
        "print(len(predictionsPTBART0PREDICTIONS))"
      ]
    },
    {
      "cell_type": "code",
      "execution_count": null,
      "metadata": {
        "id": "gC8IkRGWr9d3"
      },
      "outputs": [],
      "source": [
        "predictionsPT_BART_2_PREDICTIONS = data['PT_BART_2_PREDICTIONS'].tolist()\n",
        "\n",
        "predictionsPTBART2PREDICTIONS = []\n",
        "\n",
        "for i in range(len(predictionsPT_BART_2_PREDICTIONS)):\n",
        "\n",
        "  s = str(predictionsPT_BART_2_PREDICTIONS[i])\n",
        "  predictionsPTBART2PREDICTIONS.append(s)\n",
        "\n",
        "\n",
        "print(len(predictionsPTBART2PREDICTIONS))"
      ]
    },
    {
      "cell_type": "code",
      "execution_count": null,
      "metadata": {
        "id": "Y6k0SR9WsCGj"
      },
      "outputs": [],
      "source": [
        "predictionsPT_BART_4_PREDICTIONS = data['PT_BART_4_PREDICTIONS'].tolist()\n",
        "\n",
        "predictionsPTBART4PREDICTIONS = []\n",
        "\n",
        "for i in range(len(predictionsPT_BART_4_PREDICTIONS)):\n",
        "\n",
        "  s = str(predictionsPT_BART_4_PREDICTIONS[i])\n",
        "  predictionsPTBART4PREDICTIONS.append(s)\n",
        "\n",
        "\n",
        "print(len(predictionsPTBART4PREDICTIONS))"
      ]
    },
    {
      "cell_type": "code",
      "execution_count": null,
      "metadata": {
        "id": "1eWoySeusHmr"
      },
      "outputs": [],
      "source": [
        "predictionsPT_BART_6_PREDICTIONS = data['PT_BART_6_PREDICTIONS'].tolist()\n",
        "\n",
        "predictionsPTBART6PREDICTIONS = []\n",
        "\n",
        "for i in range(len(predictionsPT_BART_6_PREDICTIONS)):\n",
        "\n",
        "  s = str(predictionsPT_BART_6_PREDICTIONS[i])\n",
        "  predictionsPTBART6PREDICTIONS.append(s)\n",
        "\n",
        "\n",
        "print(len(predictionsPTBART6PREDICTIONS))"
      ]
    },
    {
      "cell_type": "code",
      "execution_count": null,
      "metadata": {
        "id": "De6MqwWHsNk1"
      },
      "outputs": [],
      "source": [
        "predictionsPT_BART_8_PREDICTIONS = data['PT_BART_8_PREDICTIONS'].tolist()\n",
        "\n",
        "predictionsPTBART8PREDICTIONS = []\n",
        "\n",
        "for i in range(len(predictionsPT_BART_8_PREDICTIONS)):\n",
        "\n",
        "  s = str(predictionsPT_BART_8_PREDICTIONS[i])\n",
        "  predictionsPTBART8PREDICTIONS.append(s)\n",
        "\n",
        "\n",
        "print(len(predictionsPTBART8PREDICTIONS))"
      ]
    },
    {
      "cell_type": "code",
      "execution_count": null,
      "metadata": {
        "id": "9LfDs2rtsTvx"
      },
      "outputs": [],
      "source": [
        "predictionsPT_BART_10_PREDICTIONS = data['PT_BART_10_PREDICTIONS'].tolist()\n",
        "\n",
        "predictionsPTBART10PREDICTIONS = []\n",
        "\n",
        "for i in range(len(PT_BART_10_PREDICTIONS)):\n",
        "\n",
        "  s = str(PT_BART_10_PREDICTIONS[i])\n",
        "  predictionsPTBART10PREDICTIONS.append(s)\n",
        "\n",
        "\n",
        "print(len(predictionsPTBART10PREDICTIONS))"
      ]
    },
    {
      "cell_type": "code",
      "execution_count": null,
      "metadata": {
        "id": "A-nPADCotSpV"
      },
      "outputs": [],
      "source": [
        "predictionsPT_BART_11_PREDICTIONS = data['PT_BART_11_PREDICTIONS'].tolist()\n",
        "\n",
        "predictionsPTBART11PREDICTIONS = []\n",
        "\n",
        "for i in range(len(PT_BART_11_PREDICTIONS)):\n",
        "\n",
        "  s = str(PT_BART_11_PREDICTIONS[i])\n",
        "  predictionsPTBART11PREDICTIONS.append(s)\n",
        "\n",
        "\n",
        "print(len(predictionsPTBART11PREDICTIONS))"
      ]
    },
    {
      "cell_type": "code",
      "execution_count": null,
      "metadata": {
        "id": "FrAgM3vqsZye",
        "colab": {
          "base_uri": "https://localhost:8080/"
        },
        "outputId": "8c3d75a1-4944-4424-c2a0-1389899f2cc6"
      },
      "outputs": [
        {
          "output_type": "stream",
          "name": "stdout",
          "text": [
            "25738\n"
          ]
        }
      ],
      "source": [
        "predictionsPT_BART_20_PREDICTIONS = data['PT_BART_20_PREDICTIONS'].tolist()\n",
        "\n",
        "predictionsPTBART20PREDICTIONS = []\n",
        "\n",
        "for i in range(len(predictionsPT_BART_20_PREDICTIONS)):\n",
        "\n",
        "  s = str(predictionsPT_BART_20_PREDICTIONS[i])\n",
        "  predictionsPTBART20PREDICTIONS.append(s)\n",
        "\n",
        "\n",
        "print(len(predictionsPTBART20PREDICTIONS))"
      ]
    },
    {
      "cell_type": "code",
      "execution_count": null,
      "metadata": {
        "id": "w8aVqDD-sem4",
        "colab": {
          "base_uri": "https://localhost:8080/"
        },
        "outputId": "8f65ca0f-9773-44be-858a-17fc8d189c9c"
      },
      "outputs": [
        {
          "output_type": "stream",
          "name": "stdout",
          "text": [
            "25738\n"
          ]
        }
      ],
      "source": [
        "predictionsPT_BART_30_PREDICTIONS = data['PT_BART_30_PREDICTIONS'].tolist()\n",
        "\n",
        "predictionsPTBART30PREDICTIONS = []\n",
        "\n",
        "for i in range(len(predictionsPT_BART_30_PREDICTIONS)):\n",
        "\n",
        "  s = str(predictionsPT_BART_30_PREDICTIONS[i])\n",
        "  predictionsPTBART30PREDICTIONS.append(s)\n",
        "\n",
        "\n",
        "print(len(predictionsPTBART30PREDICTIONS))"
      ]
    },
    {
      "cell_type": "code",
      "execution_count": null,
      "metadata": {
        "id": "dAQyqvy1sjSc"
      },
      "outputs": [],
      "source": [
        "predictionsPT_BART_40_PREDICTIONS = data['PT_BART_40_PREDICTIONS'].tolist()\n",
        "\n",
        "predictionsPTBART40PREDICTIONS = []\n",
        "\n",
        "for i in range(len(predictionsPT_BART_40_PREDICTIONS)):\n",
        "\n",
        "  s = str(predictionsPT_BART_40_PREDICTIONS[i])\n",
        "  predictionsPTBART40PREDICTIONS.append(s)\n",
        "\n",
        "\n",
        "print(len(predictionsPTBART40PREDICTIONS))"
      ]
    },
    {
      "cell_type": "code",
      "execution_count": null,
      "metadata": {
        "colab": {
          "background_save": true
        },
        "id": "tectzkOgspxF",
        "outputId": "9bf6417f-53c6-4dc6-8037-5ae6329fdded"
      },
      "outputs": [
        {
          "name": "stdout",
          "output_type": "stream",
          "text": [
            "25738\n"
          ]
        }
      ],
      "source": [
        "predictionsPT_BART_50_PREDICTIONS = data['PT_BART_50_PREDICTIONS'].tolist()\n",
        "\n",
        "predictionsPTBART50PREDICTIONS = []\n",
        "\n",
        "for i in range(len(predictionsPT_BART_50_PREDICTIONS)):\n",
        "\n",
        "  s = str(predictionsPT_BART_50_PREDICTIONS[i])\n",
        "  predictionsPTBART50PREDICTIONS.append(s)\n",
        "\n",
        "\n",
        "print(len(predictionsPTBART50PREDICTIONS))"
      ]
    },
    {
      "cell_type": "code",
      "execution_count": null,
      "metadata": {
        "id": "4ol1_wH-svHH"
      },
      "outputs": [],
      "source": [
        "predictionsPT_BART_60_PREDICTIONS = data['PT_BART_60_PREDICTIONS'].tolist()\n",
        "\n",
        "predictionsPTBART60PREDICTIONS = []\n",
        "\n",
        "for i in range(len(predictionsPT_BART_60_PREDICTIONS)):\n",
        "\n",
        "  s = str(predictionsPT_BART_60_PREDICTIONS[i])\n",
        "  predictionsPTBART60PREDICTIONS.append(s)\n",
        "\n",
        "\n",
        "print(len(predictionsPTBART60PREDICTIONS))"
      ]
    },
    {
      "cell_type": "code",
      "execution_count": null,
      "metadata": {
        "id": "8TsrCsWks0y1",
        "colab": {
          "base_uri": "https://localhost:8080/"
        },
        "outputId": "c8662303-97ae-4f18-ee42-cea41cc8dc86"
      },
      "outputs": [
        {
          "output_type": "stream",
          "name": "stdout",
          "text": [
            "Character Error Rates for Preditction\n",
            "11.148\n",
            "Word Error Rates for Prediction\n",
            "18.052\n",
            "\n",
            "-------------------------------------------------------------\n",
            "\n",
            "Character Error Rates for Preditction\n",
            "9.879\n",
            "Word Error Rates for Prediction\n",
            "15.82\n",
            "\n",
            "-------------------------------------------------------------\n",
            "\n",
            "Character Error Rates for Preditction\n",
            "0.342\n",
            "Word Error Rates for Prediction\n",
            "0.302\n",
            "\n",
            "-------------------------------------------------------------\n",
            "\n",
            "Character Error Rates for Preditction\n",
            "4.465\n",
            "Word Error Rates for Prediction\n",
            "19.383\n",
            "\n",
            "-------------------------------------------------------------\n",
            "\n",
            "Character Error Rates for Preditction\n",
            "5.703\n",
            "Word Error Rates for Prediction\n",
            "25.3\n",
            "\n",
            "-------------------------------------------------------------\n",
            "\n",
            "Character Error Rates for Preditction\n",
            "7.304\n",
            "Word Error Rates for Prediction\n",
            "31.697\n",
            "\n",
            "-------------------------------------------------------------\n",
            "\n",
            "Character Error Rates for Preditction\n",
            "8.783\n",
            "Word Error Rates for Prediction\n",
            "37.373\n",
            "\n",
            "-------------------------------------------------------------\n",
            "\n",
            "Character Error Rates for Preditction\n",
            "10.257\n",
            "Word Error Rates for Prediction\n",
            "42.342\n",
            "\n",
            "-------------------------------------------------------------\n",
            "\n",
            "Character Error Rates for Preditction\n",
            "11.157\n",
            "Word Error Rates for Prediction\n",
            "44.912\n",
            "\n",
            "-------------------------------------------------------------\n",
            "\n",
            "Character Error Rates for Preditction 20\n",
            "18.379\n",
            "Word Error Rates for Prediction 20\n",
            "61.924\n",
            "\n",
            "-------------------------------------------------------------\n",
            "\n",
            "Character Error Rates for Preditction 30\n",
            "26.905\n",
            "Word Error Rates for Prediction 30\n",
            "74.724\n",
            "\n",
            "-------------------------------------------------------------\n",
            "\n",
            "Character Error Rates for Preditction\n",
            "34.931\n",
            "Word Error Rates for Prediction\n",
            "83.043\n",
            "\n",
            "-------------------------------------------------------------\n",
            "\n",
            "Character Error Rates for Preditction\n",
            "42.7\n",
            "Word Error Rates for Prediction\n",
            "88.546\n",
            "\n",
            "-------------------------------------------------------------\n",
            "\n",
            "Character Error Rates for Preditction\n",
            "51.462\n",
            "Word Error Rates for Prediction\n",
            "92.689\n",
            "\n",
            "-------------------------------------------------------------\n",
            "\n"
          ]
        }
      ],
      "source": [
        "print(\"Character Error Rates for Preditction\")\n",
        "ptOC = characterER(predictionsPT_BART,targetData)\n",
        "print(ptOC)\n",
        "print(\"Word Error Rates for Prediction\")\n",
        "ptOW = wordER(predictionsPT_BART,targetData)\n",
        "print(ptOW)\n",
        "print('\\n-------------------------------------------------------------\\n')\n",
        "\n",
        "print(\"Character Error Rates for Preditction\")\n",
        "ptNC = characterER(predictionsPTBARTNATURALPREDICTIONS,targetData)\n",
        "print(ptNC)\n",
        "print(\"Word Error Rates for Prediction\")\n",
        "ptNW = wordER(predictionsPTBARTNATURALPREDICTIONS,targetData)\n",
        "print(ptNW)\n",
        "print('\\n-------------------------------------------------------------\\n')\n",
        "\n",
        "print(\"Character Error Rates for Preditction\")\n",
        "pt0C = characterER( predictionsPTBART0PREDICTIONS,targetData)\n",
        "print(pt0C)\n",
        "print(\"Word Error Rates for Prediction\")\n",
        "pt0W = wordER(predictionsPTBART0PREDICTIONS,targetData)\n",
        "print(pt0W)\n",
        "print('\\n-------------------------------------------------------------\\n')\n",
        "\n",
        "print(\"Character Error Rates for Preditction\")\n",
        "pt2C = characterER(predictionsPTBART2PREDICTIONS,targetData)\n",
        "print(pt2C)\n",
        "print(\"Word Error Rates for Prediction\")\n",
        "pt2W = wordER(predictionsPTBART2PREDICTIONS,targetData)\n",
        "print(pt2W)\n",
        "print('\\n-------------------------------------------------------------\\n')\n",
        "\n",
        "print(\"Character Error Rates for Preditction\")\n",
        "pt4C = characterER(predictionsPTBART4PREDICTIONS,targetData)\n",
        "print(pt4C)\n",
        "print(\"Word Error Rates for Prediction\")\n",
        "pt4W = wordER(predictionsPTBART4PREDICTIONS,targetData)\n",
        "print(pt4W)\n",
        "print('\\n-------------------------------------------------------------\\n')\n",
        "\n",
        "print(\"Character Error Rates for Preditction\")\n",
        "pt6C = characterER(predictionsPTBART6PREDICTIONS,targetData)\n",
        "print(pt6C)\n",
        "print(\"Word Error Rates for Prediction\")\n",
        "pt6W = wordER(predictionsPTBART6PREDICTIONS,targetData)\n",
        "print(pt6W)\n",
        "print('\\n-------------------------------------------------------------\\n')\n",
        "\n",
        "print(\"Character Error Rates for Preditction\")\n",
        "pt8C = characterER(predictionsPTBART8PREDICTIONS,targetData)\n",
        "print(pt8C)\n",
        "print(\"Word Error Rates for Prediction\")\n",
        "pt8W = wordER(predictionsPTBART8PREDICTIONS,targetData)\n",
        "print(pt8W)\n",
        "print('\\n-------------------------------------------------------------\\n')\n",
        "\n",
        "print(\"Character Error Rates for Preditction\")\n",
        "pt10C = characterER(predictionsPTBART10PREDICTIONS,targetData)\n",
        "print(pt10C)\n",
        "print(\"Word Error Rates for Prediction\")\n",
        "pt10W = wordER(predictionsPTBART10PREDICTIONS,targetData)\n",
        "print(pt10W)\n",
        "print('\\n-------------------------------------------------------------\\n')\n",
        "\n",
        "print(\"Character Error Rates for Preditction\")\n",
        "pt11C = characterER(predictionsPTBART11PREDICTIONS,targetData)\n",
        "print(pt11C)\n",
        "print(\"Word Error Rates for Prediction\")\n",
        "pt11W = wordER(predictionsPTBART11PREDICTIONS,targetData)\n",
        "print(pt11W)\n",
        "print('\\n-------------------------------------------------------------\\n')\n",
        "\n",
        "print(\"Character Error Rates for Preditction 20\")\n",
        "pt20C = characterER(predictionsPTBART20PREDICTIONS,targetData)\n",
        "print(pt20C)\n",
        "print(\"Word Error Rates for Prediction 20\")\n",
        "pt20W = wordER(predictionsPTBART20PREDICTIONS,targetData)\n",
        "print(pt20W)\n",
        "print('\\n-------------------------------------------------------------\\n')\n",
        "\n",
        "print(\"Character Error Rates for Preditction 30\")\n",
        "pt30C = characterER(predictionsPTBART30PREDICTIONS,targetData)\n",
        "print(pt30C)\n",
        "print(\"Word Error Rates for Prediction 30\")\n",
        "pt30W = wordER(predictionsPTBART30PREDICTIONS,targetData)\n",
        "print(pt30W)\n",
        "print('\\n-------------------------------------------------------------\\n')\n",
        "\n",
        "print(\"Character Error Rates for Preditction\")\n",
        "pt40C = characterER(predictionsPTBART40PREDICTIONS,targetData)\n",
        "print(pt40C)\n",
        "print(\"Word Error Rates for Prediction\")\n",
        "pt40W = wordER(predictionsPTBART40PREDICTIONS,targetData)\n",
        "print(pt40W)\n",
        "print('\\n-------------------------------------------------------------\\n')\n",
        "\n",
        "print(\"Character Error Rates for Preditction\")\n",
        "pt50C = characterER(predictionsPTBART50PREDICTIONS,targetData)\n",
        "print(pt50C)\n",
        "print(\"Word Error Rates for Prediction\")\n",
        "pt50W = wordER(predictionsPTBART50PREDICTIONS,targetData)\n",
        "print(pt50W)\n",
        "print('\\n-------------------------------------------------------------\\n')\n",
        "\n",
        "print(\"Character Error Rates for Preditction\")\n",
        "pt60C = characterER(predictionsPTBART60PREDICTIONS,targetData)\n",
        "print(pt60C)\n",
        "print(\"Word Error Rates for Prediction\")\n",
        "pt60W = wordER(predictionsPTBART60PREDICTIONS,targetData)\n",
        "print(pt60W)\n",
        "print('\\n-------------------------------------------------------------\\n')\n",
        "\n"
      ]
    },
    {
      "cell_type": "markdown",
      "metadata": {
        "id": "17zwkIGgs0_B"
      },
      "source": [
        "# MT - PRE-TRAIN"
      ]
    },
    {
      "cell_type": "code",
      "execution_count": null,
      "metadata": {
        "colab": {
          "base_uri": "https://localhost:8080/"
        },
        "id": "5BVO2CuAs3ar",
        "outputId": "4e0e4a2f-9173-47f6-9b81-5cd2b09328a7"
      },
      "outputs": [
        {
          "name": "stdout",
          "output_type": "stream",
          "text": [
            "25738\n"
          ]
        }
      ],
      "source": [
        "predictionsPT_MARIANMT = data['PT_MARIANMT'].tolist()\n",
        "\n",
        "predictionsPTMARIANMT = []\n",
        "\n",
        "for i in range(len(predictionsPT_MARIANMT)):\n",
        "\n",
        "  s = str(predictionsPT_MARIANMT[i])\n",
        "  predictionsPTMARIANMT.append(s)\n",
        "\n",
        "\n",
        "print(len(predictionsPTMARIANMT))"
      ]
    },
    {
      "cell_type": "code",
      "execution_count": null,
      "metadata": {
        "colab": {
          "base_uri": "https://localhost:8080/"
        },
        "id": "SnHEpb8Zs8WL",
        "outputId": "3924cd8d-6aff-43e7-c7e5-5f74ec60107d"
      },
      "outputs": [
        {
          "name": "stdout",
          "output_type": "stream",
          "text": [
            "25738\n"
          ]
        }
      ],
      "source": [
        "predictionsPT_MARIANT_NATURAL_PREDICTIONS = data['PT_MARIANMT_NATURAL_PREDICTIONS'].tolist()\n",
        "\n",
        "predictionsPTMARIANTNATURALPREDICTIONS = []\n",
        "\n",
        "for i in range(len(predictionsPT_MARIANT_NATURAL_PREDICTIONS)):\n",
        "\n",
        "  s = str(predictionsPT_MARIANT_NATURAL_PREDICTIONS[i])\n",
        "  predictionsPTMARIANTNATURALPREDICTIONS.append(s)\n",
        "\n",
        "\n",
        "print(len(predictionsPTMARIANTNATURALPREDICTIONS))"
      ]
    },
    {
      "cell_type": "code",
      "execution_count": null,
      "metadata": {
        "colab": {
          "base_uri": "https://localhost:8080/"
        },
        "id": "lju6VyyMs_r6",
        "outputId": "460800e5-19be-4a07-f3b9-feccbd423656"
      },
      "outputs": [
        {
          "name": "stdout",
          "output_type": "stream",
          "text": [
            "25738\n"
          ]
        }
      ],
      "source": [
        "predictionsPT_MARIANMT_0_PREDICTIONS = data['PT_MARIANMT_0_PREDICTIONS'].tolist()\n",
        "\n",
        "predictionsPTMARIANMT0PREDICTIONS = []\n",
        "\n",
        "for i in range(len(predictionsPT_MARIANMT_0_PREDICTIONS)):\n",
        "\n",
        "  s = str(predictionsPT_MARIANMT_0_PREDICTIONS[i])\n",
        "  predictionsPTMARIANMT0PREDICTIONS.append(s)\n",
        "\n",
        "\n",
        "print(len(predictionsPTMARIANMT0PREDICTIONS))"
      ]
    },
    {
      "cell_type": "code",
      "execution_count": null,
      "metadata": {
        "colab": {
          "base_uri": "https://localhost:8080/"
        },
        "id": "NgIK16G8tC9j",
        "outputId": "12bd6798-7fb1-418d-eedb-44fcb00f6242"
      },
      "outputs": [
        {
          "name": "stdout",
          "output_type": "stream",
          "text": [
            "25738\n"
          ]
        }
      ],
      "source": [
        "predictionsPT_MARIANMT_2_PREDICTIONS = data['PT_MARIANMT_2_PREDICTIONS'].tolist()\n",
        "\n",
        "predictionsPTMARIANMT2PREDICTIONS = []\n",
        "\n",
        "for i in range(len(predictionsPT_MARIANMT_2_PREDICTIONS)):\n",
        "\n",
        "  s = str(predictionsPT_MARIANMT_2_PREDICTIONS[i])\n",
        "  predictionsPTMARIANMT2PREDICTIONS.append(s)\n",
        "\n",
        "\n",
        "print(len(predictionsPTMARIANMT2PREDICTIONS))"
      ]
    },
    {
      "cell_type": "code",
      "execution_count": null,
      "metadata": {
        "colab": {
          "base_uri": "https://localhost:8080/"
        },
        "id": "doM_Vpw7tG5j",
        "outputId": "d3fd9e2e-d035-4931-f7f4-b75f430c8e96"
      },
      "outputs": [
        {
          "name": "stdout",
          "output_type": "stream",
          "text": [
            "25738\n"
          ]
        }
      ],
      "source": [
        "predictionsPT_MARIANMT_4_PREDICTIONS = data['PT_MARIANMT_4_PREDICTIONS'].tolist()\n",
        "\n",
        "predictionsPTMARIANMT4PREDICTIONS = []\n",
        "\n",
        "for i in range(len(predictionsPT_MARIANMT_4_PREDICTIONS)):\n",
        "\n",
        "  s = str(predictionsPT_MARIANMT_4_PREDICTIONS[i])\n",
        "  predictionsPTMARIANMT4PREDICTIONS.append(s)\n",
        "\n",
        "\n",
        "print(len(predictionsPTMARIANMT4PREDICTIONS))"
      ]
    },
    {
      "cell_type": "code",
      "execution_count": null,
      "metadata": {
        "colab": {
          "base_uri": "https://localhost:8080/"
        },
        "id": "WEmxzTTjtJq8",
        "outputId": "c4afed2b-fa33-4501-d2cd-c5bceaa32a06"
      },
      "outputs": [
        {
          "name": "stdout",
          "output_type": "stream",
          "text": [
            "25738\n"
          ]
        }
      ],
      "source": [
        "predictionsPT_MARIANMT_6_PREDICTIONS = data['PT_MARIANMT_6_PREDICTIONS'].tolist()\n",
        "\n",
        "predictionsPTMARIANMT6PREDICTIONS = []\n",
        "\n",
        "for i in range(len(predictionsPT_MARIANMT_6_PREDICTIONS)):\n",
        "\n",
        "  s = str(predictionsPT_MARIANMT_6_PREDICTIONS[i])\n",
        "  predictionsPTMARIANMT6PREDICTIONS.append(s)\n",
        "\n",
        "\n",
        "print(len(predictionsPTMARIANMT6PREDICTIONS))"
      ]
    },
    {
      "cell_type": "code",
      "execution_count": null,
      "metadata": {
        "colab": {
          "base_uri": "https://localhost:8080/"
        },
        "id": "a_FuwMZmtPWG",
        "outputId": "de10737f-71b2-4960-ee43-a6597d8442d8"
      },
      "outputs": [
        {
          "name": "stdout",
          "output_type": "stream",
          "text": [
            "25738\n"
          ]
        }
      ],
      "source": [
        "predictionsPT_MARIANMT_8_PREDICTIONS = data['PT_MARIANMT_8_PREDICTIONS'].tolist()\n",
        "\n",
        "predictionsPTMARIANMT8PREDICTIONS = []\n",
        "\n",
        "for i in range(len(predictionsPT_MARIANMT_8_PREDICTIONS)):\n",
        "\n",
        "  s = str(predictionsPT_MARIANMT_8_PREDICTIONS[i])\n",
        "  predictionsPTMARIANMT8PREDICTIONS.append(s)\n",
        "\n",
        "\n",
        "print(len(predictionsPTMARIANMT8PREDICTIONS))"
      ]
    },
    {
      "cell_type": "code",
      "execution_count": null,
      "metadata": {
        "colab": {
          "base_uri": "https://localhost:8080/"
        },
        "id": "Jt5uUu6stPxb",
        "outputId": "7b21c952-a50f-4b78-a900-7136d4070b46"
      },
      "outputs": [
        {
          "name": "stdout",
          "output_type": "stream",
          "text": [
            "25738\n"
          ]
        }
      ],
      "source": [
        "predictionsPT_MARIANMT_10_PREDICTIONS = data['PT_MARIANMT_10_PREDICTIONS'].tolist()\n",
        "\n",
        "predictionsPTMARIANMT10PREDICTIONS = []\n",
        "\n",
        "for i in range(len(predictionsPT_MARIANMT_10_PREDICTIONS)):\n",
        "\n",
        "  s = str(predictionsPT_MARIANMT_10_PREDICTIONS[i])\n",
        "  predictionsPTMARIANMT10PREDICTIONS.append(s)\n",
        "\n",
        "\n",
        "print(len(predictionsPTMARIANMT10PREDICTIONS))"
      ]
    },
    {
      "cell_type": "code",
      "execution_count": null,
      "metadata": {
        "colab": {
          "base_uri": "https://localhost:8080/"
        },
        "id": "RQBtqBIEta3N",
        "outputId": "8b0f627b-2be6-4729-86b5-6abf481cdc22"
      },
      "outputs": [
        {
          "name": "stdout",
          "output_type": "stream",
          "text": [
            "25738\n"
          ]
        }
      ],
      "source": [
        "predictionsPT_MARIANMT_11_PREDICTIONS = data['PT_MARIANMT_11_PREDICTIONS'].tolist()\n",
        "\n",
        "predictionsPTMARIANMT11PREDICTIONS = []\n",
        "\n",
        "for i in range(len(predictionsPT_MARIANMT_11_PREDICTIONS)):\n",
        "\n",
        "  s = str(predictionsPT_MARIANMT_11_PREDICTIONS[i])\n",
        "  predictionsPTMARIANMT11PREDICTIONS.append(s)\n",
        "\n",
        "\n",
        "print(len(predictionsPTMARIANMT11PREDICTIONS))"
      ]
    },
    {
      "cell_type": "code",
      "execution_count": null,
      "metadata": {
        "colab": {
          "base_uri": "https://localhost:8080/"
        },
        "id": "giGTtKCBtjbB",
        "outputId": "5075b70c-3cf8-4aa2-afe6-ca63b6e5d5d0"
      },
      "outputs": [
        {
          "name": "stdout",
          "output_type": "stream",
          "text": [
            "25738\n"
          ]
        }
      ],
      "source": [
        "predictionsPT_MARIANMT_20_PREDICTIONS = data['PT_MARIANMT_20_PREDICTIONS'].tolist()\n",
        "\n",
        "predictionsPTMARIANMT20PREDICTIONS = []\n",
        "\n",
        "for i in range(len(predictionsPT_MARIANMT_20_PREDICTIONS)):\n",
        "\n",
        "  s = str(predictionsPT_MARIANMT_20_PREDICTIONS[i])\n",
        "  predictionsPTMARIANMT20PREDICTIONS.append(s)\n",
        "\n",
        "\n",
        "print(len(predictionsPTMARIANMT20PREDICTIONS))"
      ]
    },
    {
      "cell_type": "code",
      "execution_count": null,
      "metadata": {
        "colab": {
          "base_uri": "https://localhost:8080/"
        },
        "id": "SMqpSMEPtkL0",
        "outputId": "90c79c08-cbb4-4d92-f3d2-39649508bea6"
      },
      "outputs": [
        {
          "name": "stdout",
          "output_type": "stream",
          "text": [
            "25738\n"
          ]
        }
      ],
      "source": [
        "predictionsPT_MARIANMT_30_PREDICTIONS = data['PT_MARIANMT_30_PREDICTIONS'].tolist()\n",
        "\n",
        "predictionsPTMARIANMT30PREDICTIONS = []\n",
        "\n",
        "for i in range(len(predictionsPT_MARIANMT_30_PREDICTIONS)):\n",
        "\n",
        "  s = str(predictionsPT_MARIANMT_30_PREDICTIONS[i])\n",
        "  predictionsPTMARIANMT30PREDICTIONS.append(s)\n",
        "\n",
        "\n",
        "print(len(predictionsPTMARIANMT30PREDICTIONS))"
      ]
    },
    {
      "cell_type": "code",
      "execution_count": null,
      "metadata": {
        "colab": {
          "base_uri": "https://localhost:8080/"
        },
        "id": "xWM65nECtnU-",
        "outputId": "81a58cec-ec11-46d9-9c9b-9e43789be14e"
      },
      "outputs": [
        {
          "name": "stdout",
          "output_type": "stream",
          "text": [
            "25738\n"
          ]
        }
      ],
      "source": [
        "predictionsPT_MARIANMT_40_PREDICTIONS = data['PT_MARIANMT_40_PREDICTIONS'].tolist()\n",
        "\n",
        "predictionsPTMARIANMT40PREDICTIONS = []\n",
        "\n",
        "for i in range(len(predictionsPT_MARIANMT_40_PREDICTIONS)):\n",
        "\n",
        "  s = str(predictionsPT_MARIANMT_40_PREDICTIONS[i])\n",
        "  predictionsPTMARIANMT40PREDICTIONS.append(s)\n",
        "\n",
        "\n",
        "print(len(predictionsPTMARIANMT40PREDICTIONS))"
      ]
    },
    {
      "cell_type": "code",
      "execution_count": null,
      "metadata": {
        "colab": {
          "base_uri": "https://localhost:8080/"
        },
        "id": "XNyGXPD1tnax",
        "outputId": "5f2f7094-a28f-4eea-9422-524c2987adbe"
      },
      "outputs": [
        {
          "name": "stdout",
          "output_type": "stream",
          "text": [
            "25738\n"
          ]
        }
      ],
      "source": [
        "predictionsPT_MARIANMT_50_PREDICTIONS = data['PT_MARIANMT_50_PREDICTIONS'].tolist()\n",
        "\n",
        "predictionsPTMARIANMT50PREDICTIONS = []\n",
        "\n",
        "for i in range(len(predictionsPT_MARIANMT_50_PREDICTIONS)):\n",
        "\n",
        "  s = str(predictionsPT_MARIANMT_50_PREDICTIONS[i])\n",
        "  predictionsPTMARIANMT50PREDICTIONS.append(s)\n",
        "\n",
        "\n",
        "print(len(predictionsPTMARIANMT50PREDICTIONS))"
      ]
    },
    {
      "cell_type": "code",
      "execution_count": null,
      "metadata": {
        "colab": {
          "base_uri": "https://localhost:8080/"
        },
        "id": "ChtRIi80ttgP",
        "outputId": "22b8736b-997c-4fea-a484-1abdce9c5879"
      },
      "outputs": [
        {
          "name": "stdout",
          "output_type": "stream",
          "text": [
            "25738\n"
          ]
        }
      ],
      "source": [
        "predictionsPT_MARIANMT_60_PREDICTIONS = data['PT_MARIANMT_60_PREDICTIONS'].tolist()\n",
        "\n",
        "predictionsPTMARIANMT60PREDICTIONS = []\n",
        "\n",
        "for i in range(len(predictionsPT_MARIANMT_60_PREDICTIONS)):\n",
        "\n",
        "  s = str(predictionsPT_MARIANMT_60_PREDICTIONS[i])\n",
        "  predictionsPTMARIANMT60PREDICTIONS.append(s)\n",
        "\n",
        "\n",
        "print(len(predictionsPTMARIANMT60PREDICTIONS))"
      ]
    },
    {
      "cell_type": "code",
      "execution_count": null,
      "metadata": {
        "colab": {
          "base_uri": "https://localhost:8080/"
        },
        "id": "6x6I2bAQy8Mr",
        "outputId": "8abe6fbc-1869-4ce3-ee8e-0d1313dafd9f"
      },
      "outputs": [
        {
          "name": "stdout",
          "output_type": "stream",
          "text": [
            "Character Error Rates for Preditction ORGINAL\n",
            "25.473\n",
            "Word Error Rates for Prediction\n",
            "38.855\n",
            "\n",
            "-------------------------------------------------------------\n",
            "\n",
            "Character Error Rates for Preditction NATURAL\n",
            "24.236\n",
            "Word Error Rates for Prediction\n",
            "36.887\n",
            "\n",
            "-------------------------------------------------------------\n",
            "\n",
            "Character Error Rates for Preditction ZERO TARGET\n",
            "15.188\n",
            "Word Error Rates for Prediction\n",
            "23.356\n",
            "\n",
            "-------------------------------------------------------------\n",
            "\n",
            "Character Error Rates for Preditction 2 TARGET\n",
            "16.517\n",
            "Word Error Rates for Prediction\n",
            "35.769\n",
            "\n",
            "-------------------------------------------------------------\n",
            "\n",
            "Character Error Rates for Preditction 4 TARGET\n",
            "18.055\n",
            "Word Error Rates for Prediction\n",
            "41.449\n",
            "\n",
            "-------------------------------------------------------------\n",
            "\n",
            "Character Error Rates for Preditction 6 TARGET\n",
            "19.285\n",
            "Word Error Rates for Prediction\n",
            "46.429\n",
            "\n",
            "-------------------------------------------------------------\n",
            "\n",
            "Character Error Rates for Preditction 8 TARGET\n",
            "20.904\n",
            "Word Error Rates for Prediction\n",
            "51.536\n",
            "\n",
            "-------------------------------------------------------------\n",
            "\n",
            "Character Error Rates for Preditction 10 TARGET\n",
            "21.919\n",
            "Word Error Rates for Prediction\n",
            "55.4\n",
            "\n",
            "-------------------------------------------------------------\n",
            "\n",
            "Character Error Rates for Preditction 11 TARGET\n",
            "22.818\n",
            "Word Error Rates for Prediction\n",
            "57.362\n",
            "\n",
            "-------------------------------------------------------------\n",
            "\n",
            "Character Error Rates for Preditction 20 TARGET\n",
            "29.365\n",
            "Word Error Rates for Prediction\n",
            "72.251\n",
            "\n",
            "-------------------------------------------------------------\n",
            "\n",
            "Character Error Rates for Preditction 30 TARGET\n",
            "38.13\n",
            "Word Error Rates for Prediction\n",
            "84.274\n",
            "\n",
            "-------------------------------------------------------------\n",
            "\n",
            "Character Error Rates for Preditction 40 TARGET\n",
            "46.249\n",
            "Word Error Rates for Prediction\n",
            "90.803\n",
            "\n",
            "-------------------------------------------------------------\n",
            "\n",
            "Character Error Rates for Preditction 50 TARGET\n",
            "54.575\n",
            "Word Error Rates for Prediction\n",
            "96.27\n",
            "\n",
            "-------------------------------------------------------------\n",
            "\n",
            "Character Error Rates for Preditction 60 TARGET\n",
            "64.323\n",
            "Word Error Rates for Prediction\n",
            "101.445\n",
            "\n",
            "-------------------------------------------------------------\n",
            "\n"
          ]
        }
      ],
      "source": [
        "print(\"Character Error Rates for Preditction ORGINAL\")\n",
        "ptOMC = characterER(predictionsPTMARIANMT,targetData)\n",
        "print(ptOMC)\n",
        "print(\"Word Error Rates for Prediction\")\n",
        "ptOMW = wordER(predictionsPTMARIANMT,targetData)\n",
        "print(ptOMW)\n",
        "print('\\n-------------------------------------------------------------\\n')\n",
        "\n",
        "print(\"Character Error Rates for Preditction NATURAL\")\n",
        "ptNMC = characterER(predictionsPTMARIANTNATURALPREDICTIONS,targetData)\n",
        "print(ptNMC)\n",
        "print(\"Word Error Rates for Prediction\")\n",
        "ptNMW = wordER(predictionsPTMARIANTNATURALPREDICTIONS,targetData)\n",
        "print(ptNMW)\n",
        "print('\\n-------------------------------------------------------------\\n')\n",
        "\n",
        "print(\"Character Error Rates for Preditction ZERO TARGET\")\n",
        "pt0MC = characterER( predictionsPTMARIANMT0PREDICTIONS,targetData)\n",
        "print(pt0MC)\n",
        "print(\"Word Error Rates for Prediction\")\n",
        "pt0MW = wordER(predictionsPTMARIANMT0PREDICTIONS,targetData)\n",
        "print(pt0MW)\n",
        "print('\\n-------------------------------------------------------------\\n')\n",
        "\n",
        "print(\"Character Error Rates for Preditction 2 TARGET\")\n",
        "pt2MC = characterER(predictionsPTMARIANMT2PREDICTIONS,targetData)\n",
        "print(pt2MC)\n",
        "print(\"Word Error Rates for Prediction\")\n",
        "pt2MW = wordER(predictionsPTMARIANMT2PREDICTIONS,targetData)\n",
        "print(pt2MW)\n",
        "print('\\n-------------------------------------------------------------\\n')\n",
        "\n",
        "print(\"Character Error Rates for Preditction 4 TARGET\")\n",
        "pt4MC = characterER(predictionsPTMARIANMT4PREDICTIONS,targetData)\n",
        "print(pt4MC)\n",
        "print(\"Word Error Rates for Prediction\")\n",
        "pt4MW = wordER(predictionsPTMARIANMT4PREDICTIONS,targetData)\n",
        "print(pt4MW)\n",
        "print('\\n-------------------------------------------------------------\\n')\n",
        "\n",
        "print(\"Character Error Rates for Preditction 6 TARGET\")\n",
        "pt6MC = characterER(predictionsPTMARIANMT6PREDICTIONS,targetData)\n",
        "print(pt6MC)\n",
        "print(\"Word Error Rates for Prediction\")\n",
        "pt6MW = wordER(predictionsPTMARIANMT6PREDICTIONS,targetData)\n",
        "print(pt6MW)\n",
        "print('\\n-------------------------------------------------------------\\n')\n",
        "\n",
        "print(\"Character Error Rates for Preditction 8 TARGET\")\n",
        "pt8MC = characterER(predictionsPTMARIANMT8PREDICTIONS,targetData)\n",
        "print(pt8MC)\n",
        "print(\"Word Error Rates for Prediction\")\n",
        "pt8MW = wordER(predictionsPTMARIANMT8PREDICTIONS,targetData)\n",
        "print(pt8MW)\n",
        "print('\\n-------------------------------------------------------------\\n')\n",
        "\n",
        "print(\"Character Error Rates for Preditction 10 TARGET\")\n",
        "pt10MC = characterER(predictionsPTMARIANMT10PREDICTIONS,targetData)\n",
        "print(pt10MC)\n",
        "print(\"Word Error Rates for Prediction\")\n",
        "pt10MW = wordER(predictionsPTMARIANMT10PREDICTIONS,targetData)\n",
        "print(pt10MW)\n",
        "print('\\n-------------------------------------------------------------\\n')\n",
        "\n",
        "print(\"Character Error Rates for Preditction 11 TARGET\")\n",
        "pt11MC = characterER(predictionsPTMARIANMT11PREDICTIONS,targetData)\n",
        "print(pt11MC)\n",
        "print(\"Word Error Rates for Prediction\")\n",
        "pt11MW = wordER(predictionsPTMARIANMT11PREDICTIONS,targetData)\n",
        "print(pt11MW)\n",
        "print('\\n-------------------------------------------------------------\\n')\n",
        "\n",
        "print(\"Character Error Rates for Preditction 20 TARGET\")\n",
        "pt20MC = characterER(predictionsPTMARIANMT20PREDICTIONS,targetData)\n",
        "print(pt20MC)\n",
        "print(\"Word Error Rates for Prediction\")\n",
        "pt20MW = wordER(predictionsPTMARIANMT20PREDICTIONS,targetData)\n",
        "print(pt20MW)\n",
        "print('\\n-------------------------------------------------------------\\n')\n",
        "\n",
        "print(\"Character Error Rates for Preditction 30 TARGET\")\n",
        "pt30MC = characterER(predictionsPTMARIANMT30PREDICTIONS,targetData)\n",
        "print(pt30MC)\n",
        "print(\"Word Error Rates for Prediction\")\n",
        "pt30MW = wordER(predictionsPTMARIANMT30PREDICTIONS,targetData)\n",
        "print(pt30MW)\n",
        "print('\\n-------------------------------------------------------------\\n')\n",
        "\n",
        "print(\"Character Error Rates for Preditction 40 TARGET\")\n",
        "pt40MC = characterER(predictionsPTMARIANMT40PREDICTIONS,targetData)\n",
        "print(pt40MC)\n",
        "print(\"Word Error Rates for Prediction\")\n",
        "pt40MW = wordER(predictionsPTMARIANMT40PREDICTIONS,targetData)\n",
        "print(pt40MW)\n",
        "print('\\n-------------------------------------------------------------\\n')\n",
        "\n",
        "print(\"Character Error Rates for Preditction 50 TARGET\")\n",
        "pt50MC = characterER(predictionsPTMARIANMT50PREDICTIONS,targetData)\n",
        "print(pt50MC)\n",
        "print(\"Word Error Rates for Prediction\")\n",
        "pt50MW = wordER(predictionsPTMARIANMT50PREDICTIONS,targetData)\n",
        "print(pt50MW)\n",
        "print('\\n-------------------------------------------------------------\\n')\n",
        "\n",
        "print(\"Character Error Rates for Preditction 60 TARGET\")\n",
        "pt60MC = characterER(predictionsPTMARIANMT60PREDICTIONS,targetData)\n",
        "print(pt60MC)\n",
        "print(\"Word Error Rates for Prediction\")\n",
        "pt60MW = wordER(predictionsPTMARIANMT60PREDICTIONS,targetData)\n",
        "print(pt60MW)\n",
        "print('\\n-------------------------------------------------------------\\n')"
      ]
    }
  ],
  "metadata": {
    "colab": {
      "collapsed_sections": [
        "-95kopGZP6l6",
        "oQdmoCf3nHlo",
        "k885MoWRnQpV",
        "1O3ZNmHZDlf1",
        "QMwJkJQ_EiDk",
        "OQ3dT1k6Nb76",
        "6lZPOnSgOEYX"
      ],
      "provenance": []
    },
    "kernelspec": {
      "display_name": "Python 3",
      "name": "python3"
    },
    "language_info": {
      "name": "python"
    }
  },
  "nbformat": 4,
  "nbformat_minor": 0
}